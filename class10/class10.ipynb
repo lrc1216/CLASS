{
 "cells": [
  {
   "cell_type": "code",
   "execution_count": 1,
   "metadata": {},
   "outputs": [
    {
     "name": "stdout",
     "output_type": "stream",
     "text": [
      "1 * 1 = 1  \n",
      "1 * 2 = 2  2 * 2 = 4  \n",
      "1 * 3 = 3  2 * 3 = 6  3 * 3 = 9  \n",
      "1 * 4 = 4  2 * 4 = 8  3 * 4 = 12  4 * 4 = 16  \n",
      "1 * 5 = 5  2 * 5 = 10  3 * 5 = 15  4 * 5 = 20  5 * 5 = 25  \n",
      "1 * 6 = 6  2 * 6 = 12  3 * 6 = 18  4 * 6 = 24  5 * 6 = 30  6 * 6 = 36  \n",
      "1 * 7 = 7  2 * 7 = 14  3 * 7 = 21  4 * 7 = 28  5 * 7 = 35  6 * 7 = 42  7 * 7 = 49  \n",
      "1 * 8 = 8  2 * 8 = 16  3 * 8 = 24  4 * 8 = 32  5 * 8 = 40  6 * 8 = 48  7 * 8 = 56  8 * 8 = 64  \n",
      "1 * 9 = 9  2 * 9 = 18  3 * 9 = 27  4 * 9 = 36  5 * 9 = 45  6 * 9 = 54  7 * 9 = 63  8 * 9 = 72  9 * 9 = 81  \n"
     ]
    }
   ],
   "source": [
    "i = 1\n",
    "while i <= 9:\n",
    "    j = 1\n",
    "    while j <= i:\n",
    "        print(\"%d * %d = %d\" %(j,i,i*j),end=\"  \")\n",
    "        j += 1\n",
    "    print()\n",
    "    i += 1"
   ]
  },
  {
   "cell_type": "markdown",
   "metadata": {},
   "source": [
    "![](2022-09-03-20-23-09.png)"
   ]
  },
  {
   "cell_type": "code",
   "execution_count": 2,
   "metadata": {},
   "outputs": [
    {
     "name": "stdout",
     "output_type": "stream",
     "text": [
      "*  *  *  *  *  \n",
      "*  *  *  *  *  \n",
      "*  *  *  *  *  \n",
      "*  *  *  *  *  \n",
      "*  *  *  *  *  \n"
     ]
    }
   ],
   "source": [
    "# num = 1           #  第一层循环\n",
    "# while num <= 5:\n",
    "#     print(\"*\",end=' ')\n",
    "#     num += 1\n",
    " \n",
    "# #  结果： * * * * * *\n",
    "# ========================================================================================\n",
    "# num2 = 1             # 在上一层基础之上再套一层循环\n",
    "# while num2 <= 5:\n",
    "#     num1 = 1\n",
    "#     while num1 <= 5:\n",
    "#         print(\"*\", end='  ')        \n",
    "#         num1 += 1\n",
    "#     print()\n",
    "#     num2 += 1\n",
    "# # 结果： *  *  *  *  *  \n",
    "#         *  *  *  *  *  \n",
    "#         *  *  *  *  *  \n",
    "#         *  *  *  *  * \n",
    "#         *  *  *  *  * \n",
    "# ===========================================================================\n",
    "#                  #    有限次，利用for循环来做：\n",
    "for i in range(1,6):\n",
    "    for j in range(1,6):\n",
    "        print('*',end='  ')\n",
    "    print()                 #    换行"
   ]
  },
  {
   "cell_type": "code",
   "execution_count": 4,
   "metadata": {},
   "outputs": [
    {
     "name": "stdout",
     "output_type": "stream",
     "text": [
      "*  \n",
      "*  *  \n",
      "*  *  *  \n",
      "*  *  *  *  \n",
      "*  *  *  *  *  \n"
     ]
    }
   ],
   "source": [
    "# num2 = 1\n",
    "# while num2 <= 5:\n",
    "#     num1 = 1\n",
    "#     while num1 <= num2:\n",
    "#         print(\"*\", end='  ')\n",
    "#         num1 += 1\n",
    "#     print()\n",
    "#     num2 += 1\n",
    "# =========================================================================================\n",
    "                    #   有限次，利用for循环来做\n",
    "for i in range(1,6):\n",
    "    for j in range(1,i+1):\n",
    "        print('*',end='  ')\n",
    "    print()"
   ]
  },
  {
   "cell_type": "code",
   "execution_count": 1,
   "metadata": {},
   "outputs": [
    {
     "name": "stdout",
     "output_type": "stream",
     "text": [
      "偶数为： 0\n",
      "偶数为： 2\n",
      "偶数为： 4\n",
      "偶数为： 6\n",
      "偶数为： 8\n",
      "偶数为： 10\n",
      "偶数为： 12\n",
      "偶数为： 14\n",
      "偶数为： 16\n",
      "偶数为： 18\n",
      "偶数为： 20\n"
     ]
    }
   ],
   "source": [
    "number=0\n",
    "while number <21:\n",
    "    if number%2 == 0:\n",
    "        print('偶数为：',number)\n",
    "    number +=1"
   ]
  },
  {
   "cell_type": "code",
   "execution_count": 8,
   "metadata": {},
   "outputs": [
    {
     "name": "stdout",
     "output_type": "stream",
     "text": [
      "1 X 1 = 1  \n",
      "\n",
      "2 X 1 = 2  2 X 2 = 4  \n",
      "\n",
      "3 X 1 = 3  3 X 2 = 6  3 X 3 = 9  \n",
      "\n",
      "4 X 1 = 4  4 X 2 = 8  4 X 3 = 12  4 X 4 = 16  \n",
      "\n",
      "5 X 1 = 5  5 X 2 = 10  5 X 3 = 15  5 X 4 = 20  5 X 5 = 25  \n",
      "\n",
      "6 X 1 = 6  6 X 2 = 12  6 X 3 = 18  6 X 4 = 24  6 X 5 = 30  6 X 6 = 36  \n",
      "\n",
      "7 X 1 = 7  7 X 2 = 14  7 X 3 = 21  7 X 4 = 28  7 X 5 = 35  7 X 6 = 42  7 X 7 = 49  \n",
      "\n",
      "8 X 1 = 8  8 X 2 = 16  8 X 3 = 24  8 X 4 = 32  8 X 5 = 40  8 X 6 = 48  8 X 7 = 56  8 X 8 = 64  \n",
      "\n",
      "9 X 1 = 9  9 X 2 = 18  9 X 3 = 27  9 X 4 = 36  9 X 5 = 45  9 X 6 = 54  9 X 7 = 63  9 X 8 = 72  9 X 9 = 81  \n",
      "\n"
     ]
    }
   ],
   "source": [
    "# step 1:循环变量初始化\n",
    "line = 1 #行\n",
    "\n",
    "\n",
    "# step 2:第一轮循环\n",
    "while line< 10:\n",
    "    column=1 #列\n",
    "    while column-1 <line:\n",
    "        print(line,\"X\",column,\"=\",line*column,\" \",end='')\n",
    "        column+=1\n",
    "    print('\\n')\n",
    "    line+=1\n"
   ]
  }
 ],
 "metadata": {
  "kernelspec": {
   "display_name": "Python 3.10.6 64-bit",
   "language": "python",
   "name": "python3"
  },
  "language_info": {
   "codemirror_mode": {
    "name": "ipython",
    "version": 3
   },
   "file_extension": ".py",
   "mimetype": "text/x-python",
   "name": "python",
   "nbconvert_exporter": "python",
   "pygments_lexer": "ipython3",
   "version": "3.10.6"
  },
  "orig_nbformat": 4,
  "vscode": {
   "interpreter": {
    "hash": "afb734500600fd355917ca529030176ea0ca205570884b88f2f6f7d791fd3fbe"
   }
  }
 },
 "nbformat": 4,
 "nbformat_minor": 2
}
