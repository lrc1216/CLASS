{
 "cells": [
  {
   "cell_type": "code",
   "execution_count": 10,
   "metadata": {},
   "outputs": [
    {
     "name": "stdout",
     "output_type": "stream",
     "text": [
      "你喜欢的人物是： 沙和尚\n"
     ]
    }
   ],
   "source": [
    "list1 = []\n",
    "character = input(\"请输入西游记中你喜欢的人物:\")\n",
    "# while(character):\n",
    "for i in range(4):\n",
    "    list1.append(character)\n",
    "    character = input(\"请输入西游记中你喜欢的人物:\")\n",
    "# for i in range(0,len(list1)):\n",
    "print((\"你喜欢的人物是：\"),list1[2])\n"
   ]
  },
  {
   "cell_type": "code",
   "execution_count": 7,
   "metadata": {},
   "outputs": [
    {
     "name": "stdout",
     "output_type": "stream",
     "text": [
      "Image file 石头 does not exist.\n",
      "Image file 剪刀 does not exist.\n",
      "Image file 石头 does not exist.\n"
     ]
    }
   ],
   "source": [
    "import random\n",
    "from easygui import *\n",
    "choices = [\"石头\", \"布\", \"剪刀\"]\n",
    "computer = random.choice(choices)\n",
    "player = False\n",
    "cpu_score = 0\n",
    "player_score = 0\n",
    "while True:\n",
    "    # player = input(\"石头, 布 or  剪刀?\").capitalize()\n",
    "    player = enterbox(\"石头, 布 or  剪刀?\")\n",
    "    # 判断游戏者和电脑的选择\n",
    "    if player == computer:\n",
    "        # print(\"平局!\")\n",
    "        msgbox(\"平局!\")\n",
    "    elif player == \"石头\":\n",
    "        if computer == \"布\":\n",
    "            msgbox(\"你输了!\", computer, \"covers\", player)\n",
    "            cpu_score+=1\n",
    "        else:\n",
    "            msgbox(\"你赢了!\", player, \"smashes\", computer)\n",
    "            player_score+=1\n",
    "    elif player == \"布\":\n",
    "        if computer == \"剪刀\":\n",
    "            msgbox(\"你输了!\", computer, \"cut\", player)\n",
    "            cpu_score+=1\n",
    "        else:\n",
    "            msgbox(\"你赢了!\", player, \"covers\", computer)\n",
    "            player_score+=1\n",
    "    elif player == \"剪刀\":\n",
    "        if computer == \"石头\":\n",
    "            msgbox(\"你输了...\", computer, \"smashes\", player)\n",
    "            cpu_score+=1\n",
    "        else:\n",
    "            msgbox(\"你赢了✌️!\", player, \"cut\", computer)\n",
    "            player_score+=1\n",
    "    elif player=='结束':\n",
    "        msgbox(\"——————最终得分——————\"+f\"电脑:{cpu_score}\"+f\"玩家:{player_score}\")\n",
    "        # msgbox(f\"电脑:{cpu_score}\")\n",
    "        # msgbox(f\"玩家:{player_score}\")\n",
    "        break\n",
    "    else:\n",
    "        msgbox(\"输入有误，请检查输入!\")\n",
    "    computer = random.choice(choices)"
   ]
  },
  {
   "cell_type": "code",
   "execution_count": 2,
   "metadata": {},
   "outputs": [
    {
     "name": "stdout",
     "output_type": "stream",
     "text": [
      "sandy\n"
     ]
    }
   ],
   "source": [
    "lskjdfldsajfsajfdsklfjsdlfjdk=[]\n",
    "for i in range(4):\n",
    "    name =input()\n",
    "    lskjdfldsajfsajfdsklfjsdlfjdk.append(name)\n",
    "print('本次比赛，第二名',lskjdfldsajfsajfdsklfjsdlfjdk[1])"
   ]
  },
  {
   "cell_type": "code",
   "execution_count": 4,
   "metadata": {},
   "outputs": [
    {
     "name": "stdout",
     "output_type": "stream",
     "text": [
      "['tony', 'hero', '小王']\n"
     ]
    }
   ],
   "source": [
    "names=['tom','tony','hero','小王']\n",
    "print(names[1:])"
   ]
  }
 ],
 "metadata": {
  "kernelspec": {
   "display_name": "Python 3.10.1 64-bit",
   "language": "python",
   "name": "python3"
  },
  "language_info": {
   "codemirror_mode": {
    "name": "ipython",
    "version": 3
   },
   "file_extension": ".py",
   "mimetype": "text/x-python",
   "name": "python",
   "nbconvert_exporter": "python",
   "pygments_lexer": "ipython3",
   "version": "3.10.1"
  },
  "orig_nbformat": 4,
  "vscode": {
   "interpreter": {
    "hash": "1726394d12e2175d5b43e9a33c697f65a6d879bfb7833a87060989870a348be0"
   }
  }
 },
 "nbformat": 4,
 "nbformat_minor": 2
}
