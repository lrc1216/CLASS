{
 "cells": [
  {
   "cell_type": "markdown",
   "metadata": {},
   "source": [
    "带着问题听课：\n",
    "1. 使用哪个关键字来创建函数？\n",
    "\n",
    "2. 如何调用函数？\n",
    "\n",
    "3. 如何向函数传递信息（参数）？\n",
    "\n",
    "4. 函数最多可以有多少个参数？\n",
    "\n",
    "5. 如何从函数返回信息？\n",
    "\n",
    "6. 函数运行结束后，函数中的局部变量会发生什么？"
   ]
  },
  {
   "cell_type": "code",
   "execution_count": 18,
   "metadata": {},
   "outputs": [
    {
     "ename": "TypeError",
     "evalue": "int() argument must be a string, a bytes-like object or a real number, not 'NoneType'",
     "output_type": "error",
     "traceback": [
      "\u001b[1;31m---------------------------------------------------------------------------\u001b[0m",
      "\u001b[1;31mTypeError\u001b[0m                                 Traceback (most recent call last)",
      "\u001b[1;32md:\\Project\\Git_prj\\MM\\CLASS\\class13.ipynb Cell 1\u001b[0m in \u001b[0;36m<cell line: 2>\u001b[1;34m()\u001b[0m\n\u001b[0;32m      <a href='vscode-notebook-cell:/d%3A/Project/Git_prj/MM/CLASS/class13.ipynb#W0sZmlsZQ%3D%3D?line=0'>1</a>\u001b[0m \u001b[39mimport\u001b[39;00m \u001b[39measygui\u001b[39;00m\n\u001b[1;32m----> <a href='vscode-notebook-cell:/d%3A/Project/Git_prj/MM/CLASS/class13.ipynb#W0sZmlsZQ%3D%3D?line=1'>2</a>\u001b[0m a\u001b[39m=\u001b[39m\u001b[39mint\u001b[39;49m(easygui\u001b[39m.\u001b[39;49mfileopenbox(\u001b[39m'\u001b[39;49m\u001b[39m请输入你要循环多少次\u001b[39;49m\u001b[39m'\u001b[39;49m))\n\u001b[0;32m      <a href='vscode-notebook-cell:/d%3A/Project/Git_prj/MM/CLASS/class13.ipynb#W0sZmlsZQ%3D%3D?line=2'>3</a>\u001b[0m list1 \u001b[39m=\u001b[39m []\n\u001b[0;32m      <a href='vscode-notebook-cell:/d%3A/Project/Git_prj/MM/CLASS/class13.ipynb#W0sZmlsZQ%3D%3D?line=3'>4</a>\u001b[0m \u001b[39mfor\u001b[39;00m i \u001b[39min\u001b[39;00m \u001b[39mrange\u001b[39m(a):\n",
      "\u001b[1;31mTypeError\u001b[0m: int() argument must be a string, a bytes-like object or a real number, not 'NoneType'"
     ]
    }
   ],
   "source": [
    "import easygui\n",
    "a=int(easygui.fileopenbox('请输入你要循环多少次'))\n",
    "list1 = []\n",
    "for i in range(a):\n",
    "    list1.append(easygui.integerbox('请输入列表数据'))\n",
    "new_list2 = []\n",
    "def lis(lists):\n",
    "    for j in lists:\n",
    "        if j%2 == 0:\n",
    "            new_list2.append(j)\n",
    "    return new_list2\n",
    "lis(list1)"
   ]
  },
  {
   "cell_type": "code",
   "execution_count": 23,
   "metadata": {},
   "outputs": [
    {
     "name": "stdout",
     "output_type": "stream",
     "text": [
      "邓i【\n",
      "tf pfy\n",
      "若lmkukum\n",
      "\n",
      "们7u68r8k\n",
      "6it\n"
     ]
    }
   ],
   "source": [
    "\n",
    "import easygui as g\n",
    "import os\n",
    "msg='文：'\n",
    "title='显示文件内容'\n",
    "file_path=g.fileopenbox(default='*.txt')\n",
    "with open(file_path) as f:\n",
    "    #title=os.path.basename(file_path)\n",
    "    text=f.read()\n",
    "    a=g.textbox(msg,title,text)\n",
    "    print(a)"
   ]
  },
  {
   "cell_type": "code",
   "execution_count": 24,
   "metadata": {},
   "outputs": [
    {
     "name": "stdout",
     "output_type": "stream",
     "text": [
      "  CCCC       A       RRRRR  TTTTTTT  EEEEEE  RRRRR  \n",
      " C    C     A A      R    R    T     E       R    R \n",
      "C          A   A     R    R    T     EEEE    R    R \n",
      "C         AAAAAAA    RRRRR     T     E       RRRRR  \n",
      " C    C  A       A   R    R    T     E       R    R \n",
      "  CCCC  A         A  R     R   T     EEEEEE  R     R\n"
     ]
    }
   ],
   "source": [
    "def printMyNameBig():\n",
    "    print (\"  CCCC       A       RRRRR  TTTTTTT  EEEEEE  RRRRR  \")\n",
    "    print (\" C    C     A A      R    R    T     E       R    R \")\n",
    "    print (\"C          A   A     R    R    T     EEEE    R    R \")\n",
    "    print (\"C         AAAAAAA    RRRRR     T     E       RRRRR  \")\n",
    "    print (\" C    C  A       A   R    R    T     E       R    R \")\n",
    "    print (\"  CCCC  A         A  R     R   T     EEEEEE  R     R\")\n",
    "printMyNameBig()   "
   ]
  },
  {
   "cell_type": "code",
   "execution_count": 27,
   "metadata": {},
   "outputs": [
    {
     "name": "stdout",
     "output_type": "stream",
     "text": [
      "RRRRR     I       CCCC      H     H     I       EEEEEE  \n",
      "R    R    I      C    C     H           I       E       \n",
      "R    R    I     C           H  H  H     I       EEEE    \n",
      "RRRRR     I     C           H     H     I       E       \n",
      "R    R    I      C    C     H     H     I       E       \n",
      "R     R   I       CCCC      H     H     I       EEEEEE  \n"
     ]
    }
   ],
   "source": [
    "def printMyNameBig():\n",
    "    print (\"RRRRR     I       CCCC      H     H     I       EEEEEE  \")\n",
    "    print (\"R    R    I      C    C     H           I       E       \")\n",
    "    print (\"R    R    I     C           H  H  H     I       EEEE    \")\n",
    "    print (\"RRRRR     I     C           H     H     I       E       \")\n",
    "    print (\"R    R    I      C    C     H     H     I       E       \")\n",
    "    print (\"R     R   I       CCCC      H     H     I       EEEEEE  \")\n",
    "\n",
    "printMyNameBig()   \n",
    "# printMyNameBig()   "
   ]
  }
 ],
 "metadata": {
  "kernelspec": {
   "display_name": "Python 3.10.5 64-bit (system)",
   "language": "python",
   "name": "python3"
  },
  "language_info": {
   "codemirror_mode": {
    "name": "ipython",
    "version": 3
   },
   "file_extension": ".py",
   "mimetype": "text/x-python",
   "name": "python",
   "nbconvert_exporter": "python",
   "pygments_lexer": "ipython3",
   "version": "3.10.5"
  },
  "orig_nbformat": 4,
  "vscode": {
   "interpreter": {
    "hash": "f5ff168696553f3e2cb115c273c46eeb315c32b0d0536992c4bad2740a7f9469"
   }
  }
 },
 "nbformat": 4,
 "nbformat_minor": 2
}
