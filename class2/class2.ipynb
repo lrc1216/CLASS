{
 "cells": [
  {
   "cell_type": "markdown",
   "metadata": {},
   "source": [
    "# class 3"
   ]
  },
  {
   "cell_type": "code",
   "execution_count": 3,
   "metadata": {},
   "outputs": [
    {
     "name": "stdout",
     "output_type": "stream",
     "text": [
      "1524157885840573112635269\n"
     ]
    }
   ],
   "source": [
    "print(12345678987654321*123456789)"
   ]
  },
  {
   "cell_type": "code",
   "execution_count": 4,
   "metadata": {},
   "outputs": [
    {
     "name": "stdout",
     "output_type": "stream",
     "text": [
      "richie\n"
     ]
    }
   ],
   "source": [
    "teacher=\"richie\"\n",
    "print(teacher)"
   ]
  },
  {
   "cell_type": "code",
   "execution_count": 5,
   "metadata": {},
   "outputs": [
    {
     "name": "stdout",
     "output_type": "stream",
     "text": [
      "53+28\n"
     ]
    }
   ],
   "source": [
    "print(\"53+28\")"
   ]
  },
  {
   "cell_type": "code",
   "execution_count": 6,
   "metadata": {},
   "outputs": [
    {
     "name": "stdout",
     "output_type": "stream",
     "text": [
      "81\n"
     ]
    }
   ],
   "source": [
    "print(53+28)"
   ]
  },
  {
   "cell_type": "code",
   "execution_count": 17,
   "metadata": {},
   "outputs": [
    {
     "name": "stdout",
     "output_type": "stream",
     "text": [
      "43\n"
     ]
    }
   ],
   "source": [
    "yugang=5\n",
    "gouwo=38\n",
    "zhujuan=yugang+gouwo\n",
    "print(zhujuan)"
   ]
  },
  {
   "cell_type": "markdown",
   "metadata": {},
   "source": [
    "姓名|技能|排行\n",
    "--|:--:|--:\n",
    "刘备|哭|大哥\n",
    "关羽|打|二哥\n",
    "张飞|骂|三弟"
   ]
  },
  {
   "cell_type": "markdown",
   "metadata": {},
   "source": [
    "```flow\n",
    "st=>start: 开始\n",
    "op=>operation: My Operation\n",
    "cond=>condition: Yes or No?\n",
    "e=>end\n",
    "st->op->cond\n",
    "cond(yes)->e\n",
    "cond(no)->op\n",
    "&```"
   ]
  },
  {
   "cell_type": "markdown",
   "metadata": {},
   "source": [
    "[简书](https://blog.csdn.net/qq_39787513/article/details/106939265)"
   ]
  },
  {
   "cell_type": "markdown",
   "metadata": {},
   "source": [
    "# class 4"
   ]
  },
  {
   "cell_type": "markdown",
   "metadata": {},
   "source": [
    "![](class4.png)"
   ]
  },
  {
   "cell_type": "markdown",
   "metadata": {},
   "source": [
    "## **1. 课前提问**"
   ]
  },
  {
   "cell_type": "markdown",
   "metadata": {},
   "source": [
    "![提问图片](https://img95.699pic.com/element/40160/1536.png_300.png!/fw/431/clip/0x300a0a0)"
   ]
  },
  {
   "cell_type": "markdown",
   "metadata": {},
   "source": [
    "1. Python 中乘法使用哪个符号？\n",
    "\n",
    "2. Python 计算 8 / 3 的答案是什么？\n",
    "\n",
    "3. 怎么得到 8 / 3 的余数？\n",
    "\n",
    "4. 怎么得到 8 / 3 的小数结果？\n",
    "\n",
    "5. Python 中计算 6 * 6 * 6 * 6 的另一种做法是什么？\n",
    "\n",
    "6. 采用 E 记法，17 000 000 要写作什么？"
   ]
  },
  {
   "cell_type": "code",
   "execution_count": 21,
   "metadata": {},
   "outputs": [
    {
     "data": {
      "text/plain": [
       "17000000.0"
      ]
     },
     "execution_count": 21,
     "metadata": {},
     "output_type": "execute_result"
    }
   ],
   "source": [
    "1.7e+7"
   ]
  },
  {
   "cell_type": "code",
   "execution_count": 15,
   "metadata": {},
   "outputs": [
    {
     "data": {
      "text/plain": [
       "1296"
      ]
     },
     "execution_count": 15,
     "metadata": {},
     "output_type": "execute_result"
    }
   ],
   "source": [
    "6*6*6*6"
   ]
  },
  {
   "cell_type": "markdown",
   "metadata": {},
   "source": [
    "### 1.2 跟python认识一下\n",
    "![](https://img.doc.docsou.com/pic/dede87bab7557c0325f4424a/1-810-jpg_6-1080-0-0-1080.jpg)"
   ]
  },
  {
   "cell_type": "code",
   "execution_count": 10,
   "metadata": {},
   "outputs": [
    {
     "name": "stdout",
     "output_type": "stream",
     "text": [
      "Hi,  markmarkmarkmarkmarkmarkmarkmarkmarkmarkmarkmarkmarkmarkmarkmarkmarkmarkmarkmarkmarkmarkmarkmarkmarkmarkmarkmarkmarkmarkmarkmarkmarkmarkmarkmarkmarkmarkmarkmarkmarkmarkmarkmarkmarkmarkmarkmarkmarkmarkmarkmarkmarkmarkmarkmarkmarkmarkmarkmarkmarkmarkmarkmarkmarkmarkmarkmarkmarkmarkmarkmarkmarkmarkmarkmarkmarkmarkmarkmarkmarkmarkmarkmarkmarkmarkmarkmarkmarkmarkmarkmarkmarkmarkmarkmarkmarkmarkmarkmarkmarkmarkmarkmarkmarkmarkmarkmarkmarkmarkmarkmarkmarkmarkmarkmarkmarkmarkmarkmarkmarkmarkmarkmarkmarkmarkmarkmarkmarkmarkmarkmarkmarkmarkmarkmarkmarkmarkmarkmarkmarkmarkmarkmarkmarkmarkmarkmarkmarkmarkmarkmarkmarkmarkmarkmarkmarkmarkmarkmarkmarkmarkmarkmarkmarkmarkmarkmarkmarkmarkmarkmarkmarkmarkmarkmarkmarkmarkmarkmarkmarkmarkmarkmarkmarkmarkmarkmarkmarkmarkmarkmarkmarkmarkmarkmarkmarkmarkmarkmarkmarkmarkmarkmarkmarkmarkmarkmarkmarkmarkmarkmarkmarkmarkmarkmarkmarkmarkmarkmarkmarkmarkmarkmarkmarkmarkmarkmarkmarkmarkmarkmarkmarkmarkmarkmarkmarkmarkmarkmarkmarkmarkmarkmarkmarkmarkmarkmarkmarkmarkmarkmarkmarkmarkmarkmarkmarkmarkmarkmarkmarkmarkmarkmarkmarkmarkmarkmarkmarkmarkmarkmarkmarkmarkmarkmarkmarkmarkmarkmarkmarkmarkmarkmarkmarkmarkmarkmarkmarkmarkmarkmarkmarkmarkmarkmarkmarkmarkmarkmark\n"
     ]
    }
   ],
   "source": [
    "name = input(\"What is your name?\\a\")\n",
    "print(\"Hi, \", name * 300)"
   ]
  },
  {
   "cell_type": "markdown",
   "metadata": {},
   "source": [
    "### 1.3长字符串\n",
    "如果希望得到一个跨多行的字符串，必须使用一种特殊的字符串，称为三重引号字符串（triple-quoted string）\n",
    "\n",
    "![](https://tse3-mm.cn.bing.net/th/id/OIP-C.7p3lo30d1-JzjQNcDlZasAHaHa?pid=ImgDet&rs=1)"
   ]
  },
  {
   "cell_type": "code",
   "execution_count": null,
   "metadata": {},
   "outputs": [],
   "source": [
    "long_string = '''\n",
    "碧玉装成一树高，\n",
    "万条垂下绿丝绦。\n",
    "不知细叶谁裁出，\n",
    "二月春风似剪刀。\n",
    "'''\n",
    "print(long_string)"
   ]
  },
  {
   "cell_type": "markdown",
   "metadata": {},
   "source": [
    "## **2.数据的类型（第四章）**"
   ]
  },
  {
   "cell_type": "markdown",
   "metadata": {},
   "source": [
    "![ddddd](https://img3.redocn.com/20140331/20140331_189ecb94f3af059aa7fbiAPJYrj4v5pX.jpg)"
   ]
  },
  {
   "cell_type": "markdown",
   "metadata": {},
   "source": [
    "### 2.1 改变类型"
   ]
  },
  {
   "cell_type": "markdown",
   "metadata": {},
   "source": [
    "![基本数据类型](https://pic2.zhimg.com/v2-ec1bfb69e2a1cfd41d1ec37c43993649_r.jpg)"
   ]
  },
  {
   "cell_type": "markdown",
   "metadata": {},
   "source": [
    "![](https://pic2.zhimg.com/v2-188a379b7913ff36f760a55f4eff1ec9_r.jpg)"
   ]
  },
  {
   "cell_type": "markdown",
   "metadata": {},
   "source": [
    "### 将整数转换为浮点数"
   ]
  },
  {
   "cell_type": "code",
   "execution_count": 24,
   "metadata": {},
   "outputs": [
    {
     "name": "stdout",
     "output_type": "stream",
     "text": [
      "mark= 24 mark_1= 24.0\n"
     ]
    }
   ],
   "source": [
    "mark = 24\n",
    "mark_1 = float(mark)\n",
    "print('mark=',mark,'mark_1=',mark_1)"
   ]
  },
  {
   "cell_type": "markdown",
   "metadata": {},
   "source": [
    "### 将浮点数转换为整数"
   ]
  },
  {
   "cell_type": "code",
   "execution_count": 30,
   "metadata": {},
   "outputs": [
    {
     "name": "stdout",
     "output_type": "stream",
     "text": [
      "54.99 54\n"
     ]
    }
   ],
   "source": [
    "e=54.99\n",
    "f=int(e)\n",
    "print(e,f)"
   ]
  },
  {
   "cell_type": "markdown",
   "metadata": {},
   "source": [
    "### 将字符串转换为浮点数"
   ]
  },
  {
   "cell_type": "code",
   "execution_count": 32,
   "metadata": {},
   "outputs": [
    {
     "name": "stdout",
     "output_type": "stream",
     "text": [
      "76.3 76.3\n"
     ]
    }
   ],
   "source": [
    "a = '76.3'\n",
    "b = float(a)\n",
    "print(a,b)"
   ]
  },
  {
   "cell_type": "markdown",
   "metadata": {},
   "source": [
    "![转换](https://img1.sycdn.imooc.com/57bef5f8000109b308180517.png)"
   ]
  },
  {
   "cell_type": "markdown",
   "metadata": {},
   "source": [
    "### 2.2 得到更多信息：type()"
   ]
  },
  {
   "cell_type": "code",
   "execution_count": 34,
   "metadata": {},
   "outputs": [
    {
     "data": {
      "text/plain": [
       "str"
      ]
     },
     "execution_count": 34,
     "metadata": {},
     "output_type": "execute_result"
    }
   ],
   "source": [
    "a = '44.2'\n",
    "b = 44.2\n",
    "type(a)"
   ]
  },
  {
   "cell_type": "markdown",
   "metadata": {},
   "source": [
    "### 2.3 类型转换错误"
   ]
  },
  {
   "cell_type": "code",
   "execution_count": 36,
   "metadata": {},
   "outputs": [
    {
     "ename": "ValueError",
     "evalue": "could not convert string to float: 'fred'",
     "output_type": "error",
     "traceback": [
      "\u001b[1;31m---------------------------------------------------------------------------\u001b[0m",
      "\u001b[1;31mValueError\u001b[0m                                Traceback (most recent call last)",
      "\u001b[1;32md:\\Project\\svn_test\\BaiduNetdiskWorkspace\\MM\\class2.ipynb Cell 36'\u001b[0m in \u001b[0;36m<cell line: 1>\u001b[1;34m()\u001b[0m\n\u001b[1;32m----> <a href='vscode-notebook-cell:/d%3A/Project/svn_test/BaiduNetdiskWorkspace/MM/class2.ipynb#ch0000051?line=0'>1</a>\u001b[0m \u001b[39mprint\u001b[39m (\u001b[39mfloat\u001b[39;49m(\u001b[39m'\u001b[39;49m\u001b[39mfred\u001b[39;49m\u001b[39m'\u001b[39;49m))\n",
      "\u001b[1;31mValueError\u001b[0m: could not convert string to float: 'fred'"
     ]
    }
   ],
   "source": [
    "print (float('fred'))"
   ]
  },
  {
   "cell_type": "markdown",
   "metadata": {},
   "source": [
    "### 2.4 使用类型转换"
   ]
  },
  {
   "cell_type": "markdown",
   "metadata": {},
   "source": [
    "[华氏度和摄氏度，傻傻分不清！](https://haokan.baidu.com/v?vid=4040083079795578942)\n",
    "\n",
    "![](https://ts1.cn.mm.bing.net/th/id/R-C.7aee3e490c0f237cba6c1a0669764b45?rik=JOtOrWkSY%2fakbQ&riu=http%3a%2f%2fwww.mianfeiwendang.com%2fpic%2feb030852723b320116e9e656%2f1-1112-jpg_6_0_______-714-0-0-714.jpg&ehk=Xj5UOG2schZedoEh54Dzfgnowlg9n1fRiTF8bYST2UI%3d&risl=&pid=ImgRaw&r=0)"
   ]
  },
  {
   "cell_type": "markdown",
   "metadata": {},
   "source": [
    "* 公式\n",
    "\n",
    "摄氏度 = 5/9*（华氏度-32）\n",
    "\n",
    "cel = 5.0 / 9 * (fahr - 32)"
   ]
  },
  {
   "cell_type": "code",
   "execution_count": 38,
   "metadata": {},
   "outputs": [
    {
     "name": "stdout",
     "output_type": "stream",
     "text": [
      "华氏度= 75 转换成摄氏度= 23.88888888888889\n"
     ]
    }
   ],
   "source": [
    "fahrenheit = 75\n",
    "celsius  = 5.0/9 * (fahrenheit - 32)\n",
    "print('华氏度=',fahrenheit,'转换成摄氏度=',celsius)"
   ]
  },
  {
   "cell_type": "markdown",
   "metadata": {},
   "source": [
    "## **3.游戏**"
   ]
  }
 ],
 "metadata": {
  "kernelspec": {
   "display_name": "Python 3.10.5 64-bit",
   "language": "python",
   "name": "python3"
  },
  "language_info": {
   "codemirror_mode": {
    "name": "ipython",
    "version": 3
   },
   "file_extension": ".py",
   "mimetype": "text/x-python",
   "name": "python",
   "nbconvert_exporter": "python",
   "pygments_lexer": "ipython3",
   "version": "3.10.5"
  },
  "orig_nbformat": 4,
  "vscode": {
   "interpreter": {
    "hash": "f5ff168696553f3e2cb115c273c46eeb315c32b0d0536992c4bad2740a7f9469"
   }
  }
 },
 "nbformat": 4,
 "nbformat_minor": 2
}
