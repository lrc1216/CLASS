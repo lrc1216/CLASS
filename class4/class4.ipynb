{
 "cells": [
  {
   "cell_type": "markdown",
   "metadata": {},
   "source": [
    "# class 2"
   ]
  },
  {
   "cell_type": "code",
   "execution_count": 3,
   "metadata": {},
   "outputs": [
    {
     "name": "stdout",
     "output_type": "stream",
     "text": [
      "1524157885840573112635269\n"
     ]
    }
   ],
   "source": [
    "print(12345678987654321*123456789)"
   ]
  },
  {
   "cell_type": "code",
   "execution_count": 4,
   "metadata": {},
   "outputs": [
    {
     "name": "stdout",
     "output_type": "stream",
     "text": [
      "richie\n"
     ]
    }
   ],
   "source": [
    "teacher=\"richie\"\n",
    "print(teacher)"
   ]
  },
  {
   "cell_type": "code",
   "execution_count": 5,
   "metadata": {},
   "outputs": [
    {
     "name": "stdout",
     "output_type": "stream",
     "text": [
      "53+28\n"
     ]
    }
   ],
   "source": [
    "print(\"53+28\")"
   ]
  },
  {
   "cell_type": "code",
   "execution_count": 6,
   "metadata": {},
   "outputs": [
    {
     "name": "stdout",
     "output_type": "stream",
     "text": [
      "81\n"
     ]
    }
   ],
   "source": [
    "print(53+28)"
   ]
  },
  {
   "cell_type": "code",
   "execution_count": 17,
   "metadata": {},
   "outputs": [
    {
     "name": "stdout",
     "output_type": "stream",
     "text": [
      "43\n"
     ]
    }
   ],
   "source": [
    "yugang=5\n",
    "gouwo=38\n",
    "zhujuan=yugang+gouwo\n",
    "print(zhujuan)"
   ]
  },
  {
   "cell_type": "markdown",
   "metadata": {},
   "source": [
    "姓名|技能|排行\n",
    "--|:--:|--:\n",
    "刘备|哭|大哥\n",
    "关羽|打|二哥\n",
    "张飞|骂|三弟"
   ]
  },
  {
   "cell_type": "markdown",
   "metadata": {},
   "source": [
    "```flow\n",
    "st=>start: 开始\n",
    "op=>operation: My Operation\n",
    "cond=>condition: Yes or No?\n",
    "e=>end\n",
    "st->op->cond\n",
    "cond(yes)->e\n",
    "cond(no)->op\n",
    "&```"
   ]
  },
  {
   "cell_type": "markdown",
   "metadata": {},
   "source": [
    "[简书](https://blog.csdn.net/qq_39787513/article/details/106939265)\n",
    "\n",
    ":smile"
   ]
  },
  {
   "cell_type": "markdown",
   "metadata": {},
   "source": [
    ":smile"
   ]
  },
  {
   "cell_type": "markdown",
   "metadata": {},
   "source": [
    "# class 4"
   ]
  },
  {
   "cell_type": "markdown",
   "metadata": {},
   "source": [
    "![](class4.png)"
   ]
  },
  {
   "cell_type": "markdown",
   "metadata": {},
   "source": [
    "## **1. 课前提问**"
   ]
  },
  {
   "cell_type": "markdown",
   "metadata": {},
   "source": [
    "![提问图片](https://img95.699pic.com/element/40160/1536.png_300.png!/fw/431/clip/0x300a0a0)"
   ]
  },
  {
   "cell_type": "markdown",
   "metadata": {},
   "source": [
    "1. Python 中乘法使用哪个符号？\n",
    "\n",
    "2. Python 计算 8 / 3 的答案是什么？\n",
    "\n",
    "3. 怎么得到 8 / 3 的余数？\n",
    "\n",
    "4. 怎么得到 8 / 3 的小数结果？\n",
    "\n",
    "5. Python 中计算 6 * 6 * 6 * 6 的另一种做法是什么？\n",
    "\n",
    "6. 采用 E 记法，17 000 000 要写作什么？"
   ]
  },
  {
   "cell_type": "code",
   "execution_count": 1,
   "metadata": {},
   "outputs": [
    {
     "data": {
      "text/plain": [
       "1296"
      ]
     },
     "execution_count": 1,
     "metadata": {},
     "output_type": "execute_result"
    }
   ],
   "source": [
    "6**4"
   ]
  },
  {
   "cell_type": "code",
   "execution_count": 2,
   "metadata": {},
   "outputs": [
    {
     "data": {
      "text/plain": [
       "1296"
      ]
     },
     "execution_count": 2,
     "metadata": {},
     "output_type": "execute_result"
    }
   ],
   "source": [
    "6*6*6*6"
   ]
  },
  {
   "cell_type": "code",
   "execution_count": 21,
   "metadata": {},
   "outputs": [
    {
     "data": {
      "text/plain": [
       "17000000.0"
      ]
     },
     "execution_count": 21,
     "metadata": {},
     "output_type": "execute_result"
    }
   ],
   "source": [
    "1.7e+7"
   ]
  },
  {
   "cell_type": "code",
   "execution_count": 15,
   "metadata": {},
   "outputs": [
    {
     "data": {
      "text/plain": [
       "1296"
      ]
     },
     "execution_count": 15,
     "metadata": {},
     "output_type": "execute_result"
    }
   ],
   "source": [
    "6*6*6*6"
   ]
  },
  {
   "cell_type": "markdown",
   "metadata": {},
   "source": [
    "### 1.2 跟python认识一下\n",
    "![](https://img.doc.docsou.com/pic/dede87bab7557c0325f4424a/1-810-jpg_6-1080-0-0-1080.jpg)"
   ]
  },
  {
   "cell_type": "code",
   "execution_count": 4,
   "metadata": {},
   "outputs": [
    {
     "name": "stdout",
     "output_type": "stream",
     "text": [
      "Hi,  markmarkmarkmarkmarkmarkmarkmarkmarkmarkmarkmarkmarkmarkmarkmarkmarkmarkmarkmarkmarkmarkmarkmarkmarkmarkmarkmarkmarkmarkmarkmarkmarkmarkmarkmarkmarkmarkmarkmarkmarkmarkmarkmarkmarkmarkmarkmarkmarkmarkmarkmarkmarkmarkmarkmarkmarkmarkmarkmarkmarkmarkmarkmarkmarkmarkmarkmarkmarkmarkmarkmarkmarkmarkmarkmarkmarkmarkmarkmarkmarkmarkmarkmarkmarkmarkmarkmarkmarkmarkmarkmarkmarkmarkmarkmarkmarkmarkmarkmarkmarkmarkmarkmarkmarkmarkmarkmarkmarkmarkmarkmarkmarkmarkmarkmarkmarkmarkmarkmarkmarkmarkmarkmarkmarkmarkmarkmarkmarkmarkmarkmarkmarkmarkmarkmarkmarkmarkmarkmarkmarkmarkmarkmarkmarkmarkmarkmarkmarkmarkmarkmarkmarkmarkmarkmarkmarkmarkmarkmarkmarkmarkmarkmarkmarkmarkmarkmarkmarkmarkmarkmarkmarkmarkmarkmarkmarkmarkmarkmarkmarkmarkmarkmarkmarkmarkmarkmarkmarkmarkmarkmarkmarkmarkmarkmarkmarkmarkmarkmarkmarkmarkmarkmarkmarkmarkmarkmarkmarkmarkmarkmarkmarkmarkmarkmarkmarkmarkmarkmarkmarkmarkmarkmarkmarkmarkmarkmarkmarkmarkmarkmarkmarkmarkmarkmarkmarkmarkmarkmarkmarkmarkmarkmarkmarkmarkmarkmarkmarkmarkmarkmarkmarkmarkmarkmarkmarkmarkmarkmarkmarkmarkmarkmarkmarkmarkmarkmarkmarkmarkmarkmarkmarkmarkmarkmarkmarkmarkmarkmarkmarkmarkmarkmarkmarkmarkmarkmarkmarkmarkmarkmarkmarkmarkmarkmarkmarkmarkmarkmark\n"
     ]
    }
   ],
   "source": [
    "name = input(\"What is your name?\\n\")\n",
    "print(\"Hi, \", name * 300)"
   ]
  },
  {
   "cell_type": "markdown",
   "metadata": {},
   "source": [
    "### 1.3长字符串\n",
    "如果希望得到一个跨多行的字符串，必须使用一种特殊的字符串，称为三重引号字符串（triple-quoted string）\n",
    "\n",
    "![](https://tse3-mm.cn.bing.net/th/id/OIP-C.7p3lo30d1-JzjQNcDlZasAHaHa?pid=ImgDet&rs=1)"
   ]
  },
  {
   "cell_type": "code",
   "execution_count": null,
   "metadata": {},
   "outputs": [],
   "source": [
    "name='sandy'"
   ]
  },
  {
   "cell_type": "code",
   "execution_count": 5,
   "metadata": {},
   "outputs": [
    {
     "name": "stdout",
     "output_type": "stream",
     "text": [
      "\n",
      "碧玉装成一树高，\n",
      "万条垂下绿丝绦。\n",
      "不知细叶谁裁出，\n",
      "二月春风似剪刀。\n",
      "\n"
     ]
    }
   ],
   "source": [
    "long_string = '''\n",
    "碧玉装成一树高，\n",
    "万条垂下绿丝绦。\n",
    "不知细叶谁裁出，\n",
    "二月春风似剪刀。\n",
    "'''\n",
    "print(long_string)"
   ]
  },
  {
   "cell_type": "code",
   "execution_count": null,
   "metadata": {},
   "outputs": [],
   "source": []
  },
  {
   "cell_type": "markdown",
   "metadata": {},
   "source": [
    "## **2.数据的类型（第四章）**"
   ]
  },
  {
   "cell_type": "markdown",
   "metadata": {},
   "source": [
    "![ddddd](https://img3.redocn.com/20140331/20140331_189ecb94f3af059aa7fbiAPJYrj4v5pX.jpg)"
   ]
  },
  {
   "cell_type": "markdown",
   "metadata": {},
   "source": [
    "### 2.1 改变类型"
   ]
  },
  {
   "cell_type": "markdown",
   "metadata": {},
   "source": [
    "![基本数据类型](https://pic2.zhimg.com/v2-ec1bfb69e2a1cfd41d1ec37c43993649_r.jpg)"
   ]
  },
  {
   "cell_type": "code",
   "execution_count": 6,
   "metadata": {},
   "outputs": [
    {
     "name": "stdout",
     "output_type": "stream",
     "text": [
      "13301.0\n"
     ]
    }
   ],
   "source": [
    "kimi_room='13301'\n",
    "print(float(kimi_room))"
   ]
  },
  {
   "cell_type": "code",
   "execution_count": 7,
   "metadata": {},
   "outputs": [
    {
     "name": "stdout",
     "output_type": "stream",
     "text": [
      "13301\n"
     ]
    }
   ],
   "source": [
    "kimi_room='13301'\n",
    "print(int(kimi_room))"
   ]
  },
  {
   "cell_type": "code",
   "execution_count": 11,
   "metadata": {},
   "outputs": [
    {
     "name": "stdout",
     "output_type": "stream",
     "text": [
      "155011\n"
     ]
    }
   ],
   "source": [
    "mark_room=15501\n",
    "mark_room=str(mark_room)\n",
    "gouwo=mark_room+'1'\n",
    "print(gouwo)\n",
    "# print(str(mark_room))"
   ]
  },
  {
   "cell_type": "markdown",
   "metadata": {},
   "source": [
    "![](https://pic2.zhimg.com/v2-188a379b7913ff36f760a55f4eff1ec9_r.jpg)"
   ]
  },
  {
   "cell_type": "markdown",
   "metadata": {},
   "source": [
    "### 将整数转换为浮点数"
   ]
  },
  {
   "cell_type": "code",
   "execution_count": 13,
   "metadata": {},
   "outputs": [
    {
     "name": "stdout",
     "output_type": "stream",
     "text": [
      "edison_score= 100 edison_score_f= 100.0\n"
     ]
    }
   ],
   "source": [
    "edison_score = 100\n",
    "edison_score_f = float(edison_score)\n",
    "print('edison_score=',edison_score,'edison_score_f=',edison_score_f)"
   ]
  },
  {
   "cell_type": "markdown",
   "metadata": {},
   "source": [
    "### 将浮点数转换为整数"
   ]
  },
  {
   "cell_type": "code",
   "execution_count": 14,
   "metadata": {},
   "outputs": [
    {
     "name": "stdout",
     "output_type": "stream",
     "text": [
      "54.99 54\n"
     ]
    }
   ],
   "source": [
    "e=54.99\n",
    "f=int(e)\n",
    "print(e,f)"
   ]
  },
  {
   "cell_type": "markdown",
   "metadata": {},
   "source": [
    "### 将字符串转换为浮点数"
   ]
  },
  {
   "cell_type": "code",
   "execution_count": 2,
   "metadata": {},
   "outputs": [
    {
     "data": {
      "text/plain": [
       "float"
      ]
     },
     "execution_count": 2,
     "metadata": {},
     "output_type": "execute_result"
    }
   ],
   "source": [
    "a = '76.3'\n",
    "b = float(a)\n",
    "# print(a,b)\n",
    "type(b)"
   ]
  },
  {
   "cell_type": "markdown",
   "metadata": {},
   "source": [
    "![转换](https://img1.sycdn.imooc.com/57bef5f8000109b308180517.png)"
   ]
  },
  {
   "cell_type": "markdown",
   "metadata": {},
   "source": [
    "### 2.2 得到更多信息：type()"
   ]
  },
  {
   "cell_type": "code",
   "execution_count": 18,
   "metadata": {},
   "outputs": [
    {
     "name": "stdout",
     "output_type": "stream",
     "text": [
      "<class 'float'>\n"
     ]
    }
   ],
   "source": [
    "a = '44.2'\n",
    "b = 44.2\n",
    "print(type(b))"
   ]
  },
  {
   "cell_type": "markdown",
   "metadata": {},
   "source": [
    "### 2.3 类型转换错误"
   ]
  },
  {
   "cell_type": "code",
   "execution_count": 21,
   "metadata": {},
   "outputs": [
    {
     "name": "stdout",
     "output_type": "stream",
     "text": [
      "100.0\n"
     ]
    }
   ],
   "source": [
    "alice = '100'\n",
    "print (float(alice))"
   ]
  },
  {
   "cell_type": "markdown",
   "metadata": {},
   "source": [
    "### 2.4 使用类型转换"
   ]
  },
  {
   "cell_type": "markdown",
   "metadata": {},
   "source": [
    "[华氏度和摄氏度，傻傻分不清！](https://haokan.baidu.com/v?vid=4040083079795578942)\n",
    "\n",
    "![](https://ts1.cn.mm.bing.net/th/id/R-C.7aee3e490c0f237cba6c1a0669764b45?rik=JOtOrWkSY%2fakbQ&riu=http%3a%2f%2fwww.mianfeiwendang.com%2fpic%2feb030852723b320116e9e656%2f1-1112-jpg_6_0_______-714-0-0-714.jpg&ehk=Xj5UOG2schZedoEh54Dzfgnowlg9n1fRiTF8bYST2UI%3d&risl=&pid=ImgRaw&r=0)"
   ]
  },
  {
   "cell_type": "markdown",
   "metadata": {},
   "source": [
    "* 公式\n",
    "\n",
    "摄氏度 = 5/9*（华氏度-32）\n",
    "摄氏度 = （华氏度-32）/1.8\n",
    "\n",
    "cel = 5.0 / 9 * (fahr - 32)"
   ]
  },
  {
   "cell_type": "code",
   "execution_count": 23,
   "metadata": {},
   "outputs": [
    {
     "name": "stdout",
     "output_type": "stream",
     "text": [
      "华氏度= 43 转换成摄氏度= 6.111111111111111\n"
     ]
    }
   ],
   "source": [
    "fahr = 43\n",
    "cel = (fahr-32)/1.8\n",
    "print('华氏度=',fahr,'转换成摄氏度=',cel)"
   ]
  },
  {
   "cell_type": "code",
   "execution_count": 4,
   "metadata": {},
   "outputs": [
    {
     "name": "stdout",
     "output_type": "stream",
     "text": [
      "华氏度= 43 转换成摄氏度= 6.111111111111112\n"
     ]
    }
   ],
   "source": [
    "#在我们的温度转换程序中，可以这样做吗？\n",
    "cel = float(5 / 9 * (fahr - 32))\n",
    "cel = 5 / 9 * float(fahr - 32)\n",
    "print('华氏度=',fahr,'转换成摄氏度=',cel)"
   ]
  },
  {
   "cell_type": "markdown",
   "metadata": {},
   "source": [
    "### 测试题"
   ]
  },
  {
   "cell_type": "code",
   "execution_count": 26,
   "metadata": {},
   "outputs": [
    {
     "name": "stdout",
     "output_type": "stream",
     "text": [
      "53\n"
     ]
    }
   ],
   "source": [
    "e=53.9\n",
    "d=int(e)\n",
    "print(d)"
   ]
  },
  {
   "cell_type": "code",
   "execution_count": 3,
   "metadata": {},
   "outputs": [
    {
     "name": "stdout",
     "output_type": "stream",
     "text": [
      "13.2 13\n"
     ]
    }
   ],
   "source": [
    "a = 13.2\n",
    "roundoff = int(a + 0.5)\n",
    "print(a,roundoff)\n",
    "# b = 13.7\n",
    "# roundoff = int(b + 0.5)\n",
    "# print(b,roundoff)"
   ]
  },
  {
   "cell_type": "markdown",
   "metadata": {},
   "source": [
    "动手试一试"
   ]
  },
  {
   "cell_type": "markdown",
   "metadata": {},
   "source": [
    "1. 使用 float() 从一个字符串（如 '12.34'）创建一个数。要保证结果确实是一个数！"
   ]
  },
  {
   "cell_type": "code",
   "execution_count": 5,
   "metadata": {},
   "outputs": [
    {
     "name": "stdout",
     "output_type": "stream",
     "text": [
      "12.34\n"
     ]
    }
   ],
   "source": [
    "a = float('12.34')\n",
    "print (a)"
   ]
  },
  {
   "cell_type": "markdown",
   "metadata": {},
   "source": [
    "2. 试着使用 int() 从一个小数（56.78）创建一个整数。答案是上取整还是下取整？"
   ]
  },
  {
   "cell_type": "code",
   "execution_count": 6,
   "metadata": {},
   "outputs": [
    {
     "name": "stdout",
     "output_type": "stream",
     "text": [
      "56\n"
     ]
    }
   ],
   "source": [
    " print(int(56.78))\n"
   ]
  },
  {
   "cell_type": "markdown",
   "metadata": {},
   "source": [
    "3. 试着使用 int() 从一个字符串创建整数。要保证结果确实是一个整数！"
   ]
  },
  {
   "cell_type": "code",
   "execution_count": 7,
   "metadata": {},
   "outputs": [
    {
     "name": "stdout",
     "output_type": "stream",
     "text": [
      "75\n"
     ]
    }
   ],
   "source": [
    "a = int('75')\n",
    "print (a)"
   ]
  },
  {
   "cell_type": "markdown",
   "metadata": {},
   "source": [
    "## **3.游戏**\n",
    "星际大战5"
   ]
  },
  {
   "cell_type": "markdown",
   "metadata": {},
   "source": [
    "![](2022-07-10-23-28-58.png)"
   ]
  },
  {
   "cell_type": "markdown",
   "metadata": {},
   "source": [
    "```flow\n",
    "st=>start: 页面加载\n",
    "e=>end: End:>http://www.google.com\n",
    "op1=>operation: get_hotel_ids|past\n",
    "op2=>operation: get_proxy|current\n",
    "sub1=>subroutine: get_proxy|current\n",
    "op3=>operation: save_comment|current\n",
    "op4=>operation: set_sentiment|current\n",
    "op5=>operation: set_record|current\n",
    " \n",
    "cond1=>condition: ids_remain空?\n",
    "cond2=>condition: proxy_list空?\n",
    "cond3=>condition: ids_got空?\n",
    "cond4=>condition: 爬取成功??\n",
    "cond5=>condition: ids_remain空?\n",
    " \n",
    "io1=>inputoutput: ids-remain\n",
    "io2=>inputoutput: proxy_list\n",
    "io3=>inputoutput: ids-got\n",
    " \n",
    "st->op1(right)->io1->cond1\n",
    "cond1(yes)->sub1->io2->cond2\n",
    "cond2(no)->op3\n",
    "cond2(yes)->sub1\n",
    "cond1(no)->op3->cond4\n",
    "cond4(yes)->io3->cond3\n",
    "cond4(no)->io1\n",
    "cond3(no)->op4\n",
    "cond3(yes, right)->cond5\n",
    "cond5(yes)->op5\n",
    "cond5(no)->cond3\n",
    "op5->e\n",
    " \n",
    "```"
   ]
  }
 ],
 "metadata": {
  "kernelspec": {
   "display_name": "Python 3.10.5 64-bit",
   "language": "python",
   "name": "python3"
  },
  "language_info": {
   "codemirror_mode": {
    "name": "ipython",
    "version": 3
   },
   "file_extension": ".py",
   "mimetype": "text/x-python",
   "name": "python",
   "nbconvert_exporter": "python",
   "pygments_lexer": "ipython3",
   "version": "3.10.5"
  },
  "orig_nbformat": 4,
  "vscode": {
   "interpreter": {
    "hash": "f5ff168696553f3e2cb115c273c46eeb315c32b0d0536992c4bad2740a7f9469"
   }
  }
 },
 "nbformat": 4,
 "nbformat_minor": 2
}
