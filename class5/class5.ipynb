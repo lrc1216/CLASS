{
 "cells": [
  {
   "cell_type": "markdown",
   "metadata": {},
   "source": [
    "# class 5\n",
    "![](https://bpic.588ku.com/element_origin_min_pic/19/05/28/ca913a6f90cf3e6db797d7a7821a0caa.jpg)\n",
    "# 1.课前提问\n",
    "![](https://ts1.cn.mm.bing.net/th/id/R-C.7c48127c3894c040faf32973bf11b064?rik=xeGRX%2fUpmfxibw&riu=http%3a%2f%2fimg95.699pic.com%2felement%2f40153%2f5021.png_300.png!%2ffw%2f431%2fclip%2f0x300a0a0&ehk=CLsGgifRx9zr%2fubO1ja63F%2fyhEHeSworMy45uICD2S0%3d&risl=&pid=ImgRaw&r=0&sres=1&sresct=1)"
   ]
  },
  {
   "cell_type": "markdown",
   "metadata": {},
   "source": [
    "* python中基本数据类型有几种？分别是？\n",
    "* str()、int() 和 float()的作用分别是什么？\n",
    "* type() 函数的作用是什么？\n",
    "* 使用 int() 将小数转换为整数，结果是上取整还是下取整？\n",
    "* 除了 int() 不使用任何其他函数，如何对一个数四舍五入而不是下取整？（例如，13.2 会下取整为 13，但是 13.7 会上取整为 14。）"
   ]
  },
  {
   "cell_type": "markdown",
   "metadata": {},
   "source": [
    "# 2.第五章内容——输入"
   ]
  },
  {
   "cell_type": "markdown",
   "metadata": {},
   "source": [
    "## 2.1 input()\n",
    "![](image.png)"
   ]
  },
  {
   "cell_type": "code",
   "execution_count": 2,
   "metadata": {},
   "outputs": [
    {
     "name": "stdout",
     "output_type": "stream",
     "text": [
      "mark\n"
     ]
    }
   ],
   "source": [
    "some_name=input()\n",
    "print(some_name)"
   ]
  },
  {
   "cell_type": "markdown",
   "metadata": {},
   "source": [
    "![](https://sslprod.oss-cn-shanghai.aliyuncs.com/stable/slides/python_3ujihb/python_3ujihb_1440-05.jpg)"
   ]
  },
  {
   "cell_type": "code",
   "execution_count": 10,
   "metadata": {},
   "outputs": [
    {
     "name": "stdout",
     "output_type": "stream",
     "text": [
      "Enter your name: \n",
      "Hi richie how are you today?\n"
     ]
    }
   ],
   "source": [
    "print (\"Enter your name: \")\n",
    "somebody = input()\n",
    "print (\"Hi\", somebody, \"how are you today?\")"
   ]
  },
  {
   "cell_type": "markdown",
   "metadata": {},
   "source": [
    "## 2.2 print 命令和逗号"
   ]
  },
  {
   "cell_type": "code",
   "execution_count": null,
   "metadata": {},
   "outputs": [
    {
     "name": "stdout",
     "output_type": "stream",
     "text": [
      "Hi, sss how are you today?\n"
     ]
    }
   ],
   "source": [
    "somebody = input(\"Enter your name: \")\n",
    "print (\"Hi,\", somebody, \"how are you today?\")"
   ]
  },
  {
   "cell_type": "markdown",
   "metadata": {},
   "source": [
    "## 2.3 输入数字"
   ]
  },
  {
   "cell_type": "code",
   "execution_count": null,
   "metadata": {},
   "outputs": [
    {
     "name": "stdout",
     "output_type": "stream",
     "text": [
      "a= 13.2 b= 13\n"
     ]
    }
   ],
   "source": [
    "a = 13.2\n",
    "roundoff = int(a + 0.5)\n",
    "print('a=',a,'b=',roundoff)"
   ]
  },
  {
   "cell_type": "code",
   "execution_count": null,
   "metadata": {},
   "outputs": [
    {
     "ename": "TypeError",
     "evalue": "can only concatenate str (not \"float\") to str",
     "output_type": "error",
     "traceback": [
      "\u001b[1;31m---------------------------------------------------------------------------\u001b[0m\n",
      "\u001b[1;31mTypeError\u001b[0m                                 Traceback (most recent call last)\n",
      "\u001b[1;32md:\\Project\\svn_test\\BaiduNetdiskWorkspace\\MM\\CLASS\\class5.ipynb Cell 7\u001b[0m in \u001b[0;36m<cell line: 2>\u001b[1;34m()\u001b[0m\n",
      "\u001b[0;32m      <a href='vscode-notebook-cell:/d%3A/Project/svn_test/BaiduNetdiskWorkspace/MM/CLASS/class5.ipynb#ch0000016?line=0'>1</a>\u001b[0m a\u001b[39m=\u001b[39m\u001b[39minput\u001b[39m()\n",
      "\u001b[1;32m----> <a href='vscode-notebook-cell:/d%3A/Project/svn_test/BaiduNetdiskWorkspace/MM/CLASS/class5.ipynb#ch0000016?line=1'>2</a>\u001b[0m roundoff \u001b[39m=\u001b[39m \u001b[39mint\u001b[39m(a \u001b[39m+\u001b[39;49m \u001b[39m0.5\u001b[39;49m)\n",
      "\u001b[0;32m      <a href='vscode-notebook-cell:/d%3A/Project/svn_test/BaiduNetdiskWorkspace/MM/CLASS/class5.ipynb#ch0000016?line=2'>3</a>\u001b[0m \u001b[39mprint\u001b[39m(\u001b[39m'\u001b[39m\u001b[39ma=\u001b[39m\u001b[39m'\u001b[39m,a,\u001b[39m'\u001b[39m\u001b[39mb=\u001b[39m\u001b[39m'\u001b[39m,roundoff)\n",
      "\n",
      "\u001b[1;31mTypeError\u001b[0m: can only concatenate str (not \"float\") to str"
     ]
    }
   ],
   "source": [
    "a=input()\n",
    "roundoff = int(a + 0.5)\n",
    "print('a=',a,'b=',roundoff)"
   ]
  },
  {
   "cell_type": "markdown",
   "metadata": {},
   "source": [
    "## 2.4 来自互联网的输入"
   ]
  },
  {
   "cell_type": "code",
   "execution_count": 15,
   "metadata": {},
   "outputs": [
    {
     "data": {
      "text/html": [
       "<div>\n",
       "<style scoped>\n",
       "    .dataframe tbody tr th:only-of-type {\n",
       "        vertical-align: middle;\n",
       "    }\n",
       "\n",
       "    .dataframe tbody tr th {\n",
       "        vertical-align: top;\n",
       "    }\n",
       "\n",
       "    .dataframe thead th {\n",
       "        text-align: right;\n",
       "    }\n",
       "</style>\n",
       "<table border=\"1\" class=\"dataframe\">\n",
       "  <thead>\n",
       "    <tr style=\"text-align: right;\">\n",
       "      <th></th>\n",
       "      <th>0</th>\n",
       "      <th>1</th>\n",
       "      <th>2</th>\n",
       "      <th>3</th>\n",
       "      <th>4</th>\n",
       "      <th>5</th>\n",
       "      <th>6</th>\n",
       "      <th>7</th>\n",
       "      <th>8</th>\n",
       "    </tr>\n",
       "  </thead>\n",
       "  <tbody>\n",
       "    <tr>\n",
       "      <th>0</th>\n",
       "      <td>全指通信000994.CSI</td>\n",
       "      <td>18.26</td>\n",
       "      <td>0.04%</td>\n",
       "      <td>1.42</td>\n",
       "      <td>0.29%</td>\n",
       "      <td>1.61</td>\n",
       "      <td>99.30%</td>\n",
       "      <td>-21.42%</td>\n",
       "      <td>查看详情</td>\n",
       "    </tr>\n",
       "    <tr>\n",
       "      <th>1</th>\n",
       "      <td>德国DAXGDAXI.GI</td>\n",
       "      <td>11.42</td>\n",
       "      <td>0.08%</td>\n",
       "      <td>1.43</td>\n",
       "      <td>6.53%</td>\n",
       "      <td>3.61</td>\n",
       "      <td>96.05%</td>\n",
       "      <td>-19.34%</td>\n",
       "      <td>查看详情</td>\n",
       "    </tr>\n",
       "    <tr>\n",
       "      <th>2</th>\n",
       "      <td>澳洲标普200AS51.GI</td>\n",
       "      <td>15.00</td>\n",
       "      <td>0.68%</td>\n",
       "      <td>1.98</td>\n",
       "      <td>36.44%</td>\n",
       "      <td>5.06</td>\n",
       "      <td>92.99%</td>\n",
       "      <td>-11.11%</td>\n",
       "      <td>查看详情</td>\n",
       "    </tr>\n",
       "    <tr>\n",
       "      <th>3</th>\n",
       "      <td>380价值000118.SH</td>\n",
       "      <td>8.34</td>\n",
       "      <td>0.75%</td>\n",
       "      <td>1.00</td>\n",
       "      <td>1.99%</td>\n",
       "      <td>4.10</td>\n",
       "      <td>99.42%</td>\n",
       "      <td>1.05%</td>\n",
       "      <td>查看详情</td>\n",
       "    </tr>\n",
       "    <tr>\n",
       "      <th>4</th>\n",
       "      <td>医疗器械h30217.CSI</td>\n",
       "      <td>21.61</td>\n",
       "      <td>0.87%</td>\n",
       "      <td>5.45</td>\n",
       "      <td>29.38%</td>\n",
       "      <td>1.15</td>\n",
       "      <td>98.99%</td>\n",
       "      <td>-14.73%</td>\n",
       "      <td>查看详情</td>\n",
       "    </tr>\n",
       "    <tr>\n",
       "      <th>...</th>\n",
       "      <td>...</td>\n",
       "      <td>...</td>\n",
       "      <td>...</td>\n",
       "      <td>...</td>\n",
       "      <td>...</td>\n",
       "      <td>...</td>\n",
       "      <td>...</td>\n",
       "      <td>...</td>\n",
       "      <td>...</td>\n",
       "    </tr>\n",
       "    <tr>\n",
       "      <th>153</th>\n",
       "      <td>中证全指电力指数h30199.CSI</td>\n",
       "      <td>66.88</td>\n",
       "      <td>98.93%</td>\n",
       "      <td>1.93</td>\n",
       "      <td>87.36%</td>\n",
       "      <td>1.99</td>\n",
       "      <td>4.72%</td>\n",
       "      <td>-9.23%</td>\n",
       "      <td>查看详情</td>\n",
       "    </tr>\n",
       "    <tr>\n",
       "      <th>154</th>\n",
       "      <td>汽车(申万)801880.SI</td>\n",
       "      <td>35.53</td>\n",
       "      <td>99.5%</td>\n",
       "      <td>2.47</td>\n",
       "      <td>72.96%</td>\n",
       "      <td>1.38</td>\n",
       "      <td>30.48%</td>\n",
       "      <td>-4.30%</td>\n",
       "      <td>查看详情</td>\n",
       "    </tr>\n",
       "    <tr>\n",
       "      <th>155</th>\n",
       "      <td>全指消费000990.CSI</td>\n",
       "      <td>75.53</td>\n",
       "      <td>99.92%</td>\n",
       "      <td>6.92</td>\n",
       "      <td>88.04%</td>\n",
       "      <td>1.24</td>\n",
       "      <td>33.69%</td>\n",
       "      <td>-4.93%</td>\n",
       "      <td>查看详情</td>\n",
       "    </tr>\n",
       "    <tr>\n",
       "      <th>156</th>\n",
       "      <td>全指公用000995.CSI</td>\n",
       "      <td>49.33</td>\n",
       "      <td>100%</td>\n",
       "      <td>1.94</td>\n",
       "      <td>87.35%</td>\n",
       "      <td>2.06</td>\n",
       "      <td>16.18%</td>\n",
       "      <td>-9.29%</td>\n",
       "      <td>查看详情</td>\n",
       "    </tr>\n",
       "    <tr>\n",
       "      <th>157</th>\n",
       "      <td>农林牧渔(申万)801010.SI</td>\n",
       "      <td>131.47</td>\n",
       "      <td>100%</td>\n",
       "      <td>3.74</td>\n",
       "      <td>67.84%</td>\n",
       "      <td>0.44</td>\n",
       "      <td>11.30%</td>\n",
       "      <td>2.26%</td>\n",
       "      <td>查看详情</td>\n",
       "    </tr>\n",
       "  </tbody>\n",
       "</table>\n",
       "<p>158 rows × 9 columns</p>\n",
       "</div>"
      ],
      "text/plain": [
       "                      0       1       2     3       4     5       6        7  \\\n",
       "0        全指通信000994.CSI   18.26   0.04%  1.42   0.29%  1.61  99.30%  -21.42%   \n",
       "1         德国DAXGDAXI.GI   11.42   0.08%  1.43   6.53%  3.61  96.05%  -19.34%   \n",
       "2        澳洲标普200AS51.GI   15.00   0.68%  1.98  36.44%  5.06  92.99%  -11.11%   \n",
       "3        380价值000118.SH    8.34   0.75%  1.00   1.99%  4.10  99.42%    1.05%   \n",
       "4        医疗器械h30217.CSI   21.61   0.87%  5.45  29.38%  1.15  98.99%  -14.73%   \n",
       "..                  ...     ...     ...   ...     ...   ...     ...      ...   \n",
       "153  中证全指电力指数h30199.CSI   66.88  98.93%  1.93  87.36%  1.99   4.72%   -9.23%   \n",
       "154     汽车(申万)801880.SI   35.53   99.5%  2.47  72.96%  1.38  30.48%   -4.30%   \n",
       "155      全指消费000990.CSI   75.53  99.92%  6.92  88.04%  1.24  33.69%   -4.93%   \n",
       "156      全指公用000995.CSI   49.33    100%  1.94  87.35%  2.06  16.18%   -9.29%   \n",
       "157   农林牧渔(申万)801010.SI  131.47    100%  3.74  67.84%  0.44  11.30%    2.26%   \n",
       "\n",
       "        8  \n",
       "0    查看详情  \n",
       "1    查看详情  \n",
       "2    查看详情  \n",
       "3    查看详情  \n",
       "4    查看详情  \n",
       "..    ...  \n",
       "153  查看详情  \n",
       "154  查看详情  \n",
       "155  查看详情  \n",
       "156  查看详情  \n",
       "157  查看详情  \n",
       "\n",
       "[158 rows x 9 columns]"
      ]
     },
     "execution_count": 15,
     "metadata": {},
     "output_type": "execute_result"
    }
   ],
   "source": [
    "import pandas as pd\n",
    "dfs = pd.read_html('https://funddb.cn/site/index')\n",
    "dfs[1]"
   ]
  },
  {
   "cell_type": "markdown",
   "metadata": {},
   "source": [
    "## 2.5 你学到了什么呢"
   ]
  },
  {
   "cell_type": "code",
   "execution_count": null,
   "metadata": {},
   "outputs": [],
   "source": []
  },
  {
   "cell_type": "markdown",
   "metadata": {},
   "source": [
    "## 2.6 测试题\n",
    "1. 如果用户键入 12，answer 的数据类型是什么？是字符串还是一个数？\n",
    "\n",
    "2. 怎么让 raw_input() 打印一个提示消息？\n",
    "\n",
    "3. 怎么使用 raw_input() 得到一个整数？\n",
    "\n",
    "4. 怎么使用 raw_input() 得到一个浮点数（小数）？"
   ]
  },
  {
   "cell_type": "markdown",
   "metadata": {},
   "source": [
    "## 2.7 动手试一试\n",
    "1. 在交互模式中建立两个变量，分别表示你的姓和名。然后使用一条 print 语句，把姓和名打印在一起。\n",
    "\n",
    "2. 编写一个程序，先问你的姓，再问名，然后打印一条消息，在消息中包含你的姓和名。\n",
    "\n",
    "3. 编写一个程序询问一间长方形房间的尺寸（单位是米），然后计算覆盖整个房间总共需要多少地毯，并显示出来。\n",
    "\n",
    "4. 课后作业：编写一个程序先完成第 3 题的要求，不过还要询问每平方尺地毯的价格。然后主程序显示下面 3 个内容：\n",
    "\n",
    "总共需要多少地毯，单位是平方米。\n",
    "\n",
    "总共需要多少地毯，单位是平方尺（1 平方米 = 9 平方尺）。\n",
    "\n",
    "地毯总价格。\n",
    "\n",
    "5. 课后作业：编写一个程序帮助用户统计她的零钱。程序要问下面的问题。\n",
    "\n",
    "“有多少个五分币？”\n",
    "\n",
    "“有多少个二分币？”\n",
    "\n",
    "“有多少个一分币？”\n",
    "\n",
    "让程序给出这些零钱的总面值"
   ]
  },
  {
   "cell_type": "code",
   "execution_count": 20,
   "metadata": {},
   "outputs": [
    {
     "name": "stdout",
     "output_type": "stream",
     "text": [
      "liu ruichao\n"
     ]
    }
   ],
   "source": [
    "# no 1\n",
    "last_name='liu'\n",
    "first_name = 'ruichao'\n",
    "print(last_name+' '+first_name)"
   ]
  },
  {
   "cell_type": "code",
   "execution_count": 17,
   "metadata": {},
   "outputs": [
    {
     "name": "stdout",
     "output_type": "stream",
     "text": [
      "liu ruichao\n"
     ]
    }
   ],
   "source": [
    "# no 2\n",
    "last_name=input('please input your family name:')\n",
    "first_name = input('please input your first name:')\n",
    "print(last_name+first_name)"
   ]
  },
  {
   "cell_type": "code",
   "execution_count": 21,
   "metadata": {},
   "outputs": [
    {
     "name": "stdout",
     "output_type": "stream",
     "text": [
      "The area is 12.0 square feet.\n"
     ]
    }
   ],
   "source": [
    "# no 3\n",
    "length = float(input ('length of the gouwo in feet: '))\n",
    "width = float(input ('width of the gouwo in feet: '))\n",
    "area = length * width\n",
    "print ('The area of gouwo is', area, 'square feet.')"
   ]
  },
  {
   "cell_type": "markdown",
   "metadata": {},
   "source": [
    "# 3.游戏环节"
   ]
  }
 ],
 "metadata": {
  "kernelspec": {
   "display_name": "Python 3.10.5 64-bit",
   "language": "python",
   "name": "python3"
  },
  "language_info": {
   "codemirror_mode": {
    "name": "ipython",
    "version": 3
   },
   "file_extension": ".py",
   "mimetype": "text/x-python",
   "name": "python",
   "nbconvert_exporter": "python",
   "pygments_lexer": "ipython3",
   "version": "3.10.5"
  },
  "orig_nbformat": 4,
  "vscode": {
   "interpreter": {
    "hash": "f5ff168696553f3e2cb115c273c46eeb315c32b0d0536992c4bad2740a7f9469"
   }
  }
 },
 "nbformat": 4,
 "nbformat_minor": 2
}
