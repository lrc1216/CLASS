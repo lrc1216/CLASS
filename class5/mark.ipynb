{
 "cells": [
  {
   "cell_type": "code",
   "execution_count": 8,
   "metadata": {},
   "outputs": [
    {
     "name": "stdout",
     "output_type": "stream",
     "text": [
      "the area of rectangle is: 600.0\n",
      "the pfc of rectangle is: 5400.0\n",
      "the price input pfc is: 50.0\n",
      "the money of rectangle is: 270000.0\n"
     ]
    }
   ],
   "source": [
    " #1\n",
    "length=float(input('please input length'))\n",
    "width=float(input('piease input length'))\n",
    "area=length*width\n",
    "print('the area of rectangle is:',area)\n",
    "#2\n",
    "pfc=area*9\n",
    "print('the pfc of rectangle is:',pfc)\n",
    "#3\n",
    "pfc_price=float(input('the price is input pfc'))\n",
    "print('the price input pfc is:',pfc_price)\n",
    "#4\n",
    "money=pfc*pfc_price\n",
    "print('the money of rectangle is:',money)\n",
    "\n",
    "\n",
    "\n"
   ]
  },
  {
   "cell_type": "code",
   "execution_count": null,
   "metadata": {},
   "outputs": [],
   "source": []
  }
 ],
 "metadata": {
  "kernelspec": {
   "display_name": "Python 3.10.1 64-bit",
   "language": "python",
   "name": "python3"
  },
  "language_info": {
   "codemirror_mode": {
    "name": "ipython",
    "version": 3
   },
   "file_extension": ".py",
   "mimetype": "text/x-python",
   "name": "python",
   "nbconvert_exporter": "python",
   "pygments_lexer": "ipython3",
   "version": "3.10.1"
  },
  "orig_nbformat": 4,
  "vscode": {
   "interpreter": {
    "hash": "1726394d12e2175d5b43e9a33c697f65a6d879bfb7833a87060989870a348be0"
   }
  }
 },
 "nbformat": 4,
 "nbformat_minor": 2
}
