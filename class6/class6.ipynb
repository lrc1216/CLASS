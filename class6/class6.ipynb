{
 "cells": [
  {
   "cell_type": "markdown",
   "metadata": {},
   "source": [
    "# class6\n",
    "# 1 课前提问\n",
    "1. 如果用户键入 12，answer 的数据类型是什么？是字符串还是一个数？\n",
    "2. 怎么让 input() 打印一个提示消息？\n",
    "3. 怎么使用 input() 得到一个整数？\n",
    "4. 怎么使用 input() 得到一个浮点数（小数）？"
   ]
  },
  {
   "cell_type": "markdown",
   "metadata": {},
   "source": [
    "# 2 GUI——图形用户界面\n",
    "## 2.1 什么是 GUI\n",
    "GUI 是 Graphical User Interface（图形用户界面）的缩写\n",
    "\n",
    "[GUI科普](https://baike.baidu.com/item/GUI/479966)\n",
    "\n",
    "![](https://tse1-mm.cn.bing.net/th/id/OIP-C.Ueb30EP7gVNk32yveXe6LgHaF7?pid=ImgDet&rs=1)"
   ]
  },
  {
   "cell_type": "markdown",
   "metadata": {},
   "source": [
    "## 2.2 第一个 GUI"
   ]
  },
  {
   "cell_type": "code",
   "execution_count": 1,
   "metadata": {},
   "outputs": [],
   "source": [
    "#这会告诉 Python 你打算使用 EasyGui 模块\n",
    "import easygui  "
   ]
  },
  {
   "cell_type": "code",
   "execution_count": 3,
   "metadata": {},
   "outputs": [
    {
     "data": {
      "text/plain": [
       "'OK'"
      ]
     },
     "execution_count": 3,
     "metadata": {},
     "output_type": "execute_result"
    }
   ],
   "source": [
    "# EasyGui msgbox() 函数用于创建一个消息框。大多数情况下，EasyGui 函数的名就是相应英语单词的缩写\n",
    "easygui.msgbox(\"Hello There!\")"
   ]
  },
  {
   "cell_type": "markdown",
   "metadata": {},
   "source": [
    "## 2.3 GUI 输入\n",
    "![](2022-07-23-10-07-56.png)\n",
    "\n",
    "'OK' 部分就是 Python 和 EasyGui 在告诉你：用户点击了 OK 按钮。EasyGui 会返回信息来告诉你用户在 GUI 中做了什么：点击了什么按钮，键入了哪些内容等等。可以为这个响应指定一个名字（把它赋给一个变量）。试试看"
   ]
  },
  {
   "cell_type": "code",
   "execution_count": 5,
   "metadata": {},
   "outputs": [
    {
     "name": "stdout",
     "output_type": "stream",
     "text": [
      "OK\n"
     ]
    }
   ],
   "source": [
    "user_response = easygui.msgbox(\"Hello there!\")\n",
    "print(user_response)"
   ]
  },
  {
   "cell_type": "markdown",
   "metadata": {},
   "source": [
    "## 2.4 选择你的口味\n",
    "\n",
    "![](2022-07-23-10-12-56.png)"
   ]
  },
  {
   "cell_type": "code",
   "execution_count": 8,
   "metadata": {},
   "outputs": [
    {
     "data": {
      "text/plain": [
       "'OK'"
      ]
     },
     "execution_count": 8,
     "metadata": {},
     "output_type": "execute_result"
    }
   ],
   "source": [
    "import easygui\n",
    "flavor=easygui.buttonbox('what is your favorite icream flavor?',\n",
    "                      choices=['抹茶味','奶油味','巧克力味'])\n",
    "easygui.msgbox('你选择了'+flavor)"
   ]
  },
  {
   "cell_type": "markdown",
   "metadata": {},
   "source": [
    "这是怎么做到的？用户点击的按钮的标签就是输入（input）。我们为这个输入指定了一个变量名，在这里就是 flavor。这就像使用 input()，只不过用户并不是键入，而是点击一个按钮。这正是 GUI 的关键"
   ]
  },
  {
   "cell_type": "markdown",
   "metadata": {},
   "source": [
    "## 换一种玩法——选择框\n",
    "下面来看用户选择口味的另一种方法。EasyGui 提供了一种选择框（choice box，choicebox），它会显示一个选择列表。用户可以选择其中之一，然后点击 OK 按钮。"
   ]
  },
  {
   "cell_type": "code",
   "execution_count": 10,
   "metadata": {},
   "outputs": [
    {
     "ename": "TypeError",
     "evalue": "can only concatenate str (not \"NoneType\") to str",
     "output_type": "error",
     "traceback": [
      "\u001b[1;31m---------------------------------------------------------------------------\u001b[0m",
      "\u001b[1;31mTypeError\u001b[0m                                 Traceback (most recent call last)",
      "\u001b[1;32md:\\Project\\svn_test\\BaiduNetdiskWorkspace\\MM\\CLASS\\class6\\class6.ipynb Cell 12\u001b[0m in \u001b[0;36m<cell line: 4>\u001b[1;34m()\u001b[0m\n\u001b[0;32m      <a href='vscode-notebook-cell:/d%3A/Project/svn_test/BaiduNetdiskWorkspace/MM/CLASS/class6/class6.ipynb#ch0000015?line=0'>1</a>\u001b[0m \u001b[39mimport\u001b[39;00m \u001b[39measygui\u001b[39;00m\n\u001b[0;32m      <a href='vscode-notebook-cell:/d%3A/Project/svn_test/BaiduNetdiskWorkspace/MM/CLASS/class6/class6.ipynb#ch0000015?line=1'>2</a>\u001b[0m flavor \u001b[39m=\u001b[39m easygui\u001b[39m.\u001b[39mchoicebox(\u001b[39m\"\u001b[39m\u001b[39mWhat is your favorite ice cream flavor?\u001b[39m\u001b[39m\"\u001b[39m,\n\u001b[0;32m      <a href='vscode-notebook-cell:/d%3A/Project/svn_test/BaiduNetdiskWorkspace/MM/CLASS/class6/class6.ipynb#ch0000015?line=2'>3</a>\u001b[0m                    choices \u001b[39m=\u001b[39m [\u001b[39m'\u001b[39m\u001b[39mVanilla\u001b[39m\u001b[39m'\u001b[39m, \u001b[39m'\u001b[39m\u001b[39mChocolate\u001b[39m\u001b[39m'\u001b[39m, \u001b[39m'\u001b[39m\u001b[39mStrawberry\u001b[39m\u001b[39m'\u001b[39m] )\n\u001b[1;32m----> <a href='vscode-notebook-cell:/d%3A/Project/svn_test/BaiduNetdiskWorkspace/MM/CLASS/class6/class6.ipynb#ch0000015?line=3'>4</a>\u001b[0m easygui\u001b[39m.\u001b[39mmsgbox (\u001b[39m\"\u001b[39;49m\u001b[39mYou picked \u001b[39;49m\u001b[39m\"\u001b[39;49m \u001b[39m+\u001b[39;49m flavor)\n",
      "\u001b[1;31mTypeError\u001b[0m: can only concatenate str (not \"NoneType\") to str"
     ]
    }
   ],
   "source": [
    "import easygui\n",
    "flavor = easygui.choicebox(\"What is your favorite ice cream flavor?\",\n",
    "                   choices = ['Vanilla', 'Chocolate', 'Strawberry'] )\n",
    "easygui.msgbox (\"You picked \" + flavor)"
   ]
  },
  {
   "cell_type": "markdown",
   "metadata": {},
   "source": [
    "## 文本输入\n",
    "这一章中的例子允许用户从你（程序员）提供的一组选项中做出选择。如果你想像 raw_input() 一样（也就是让用户键入文本），该怎么做呢？这样用户就可以输入自己喜欢的任何口味了。EasyGui 提供了一种输入框（enter box ，enterbox）能够做到这一点"
   ]
  },
  {
   "cell_type": "code",
   "execution_count": 11,
   "metadata": {},
   "outputs": [
    {
     "data": {
      "text/plain": [
       "'OK'"
      ]
     },
     "execution_count": 11,
     "metadata": {},
     "output_type": "execute_result"
    }
   ],
   "source": [
    "import easygui\n",
    "flavor = easygui.enterbox(\"What is your favorite ice cream flavor?\")\n",
    "easygui.msgbox (\"You entered \" + flavor)"
   ]
  },
  {
   "cell_type": "markdown",
   "metadata": {},
   "source": [
    "## 数字呢\n",
    "如果想在 EasyGui 中输入一个数，完全可以先通过输入框得到一个字符串，然后使用 int() 或者 float() 由这个字符串创建一个数（就像第 4 章中的做法一样）。\n",
    "\n",
    "EasyGui 还提供了一种整数框（integer box ，integerbox），可以用它来输入整数。还可以对所输入的数设置一个下界和上界。\n",
    "\n",
    "不过，整数框不允许输入浮点数（小数）。要输入小数，必须先通过输入框得到字符串，然后再使用 float() 转换这个字符串。"
   ]
  },
  {
   "cell_type": "code",
   "execution_count": 13,
   "metadata": {},
   "outputs": [
    {
     "data": {
      "text/plain": [
       "'OK'"
      ]
     },
     "execution_count": 13,
     "metadata": {},
     "output_type": "execute_result"
    }
   ],
   "source": [
    "number = easygui.integerbox('the length is')\n",
    "easygui.msgbox('the length is',number)"
   ]
  },
  {
   "cell_type": "markdown",
   "metadata": {},
   "source": [
    "## 2.5 再看猜数游戏……\n",
    "\n",
    "你还记得这个游戏么，幸运儿！！！"
   ]
  },
  {
   "cell_type": "markdown",
   "metadata": {},
   "source": [
    "## 2.6 其他 GUI 组件\n",
    "\n",
    "![](https://ts1.cn.mm.bing.net/th/id/R-C.6632707591edd7275a9f4b4c2a0ee802?rik=9ESfp7GQvBapUQ&riu=http%3a%2f%2fimg3.redocn.com%2f20131018%2fRedocn_2013101808514939.jpg&ehk=VDdZTdT7EY1GJN51%2bilNPC5plJtABao8Qd2hvZQ9ZpA%3d&risl=&pid=ImgRaw&r=0)"
   ]
  },
  {
   "cell_type": "markdown",
   "metadata": {},
   "source": [
    "如果你想了解有关 Python 使用的更多内容，比如 EasyGui（或任何其他方面），有一个好消息告诉你：Python 提供了一个内置的帮助系统，也许你可以试一试"
   ]
  },
  {
   "cell_type": "code",
   "execution_count": 17,
   "metadata": {},
   "outputs": [
    {
     "name": "stdout",
     "output_type": "stream",
     "text": [
      "Help on function msgbox in module easygui.boxes.derived_boxes:\n",
      "\n",
      "msgbox(msg='(Your message goes here)', title=' ', ok_button='OK', image=None, root=None)\n",
      "    The ``msgbox()`` function displays a text message and offers an OK\n",
      "    button. The message text appears in the center of the window, the title\n",
      "    text appears in the title bar, and you can replace the \"OK\" default text\n",
      "    on the button. Here is the signature::\n",
      "    \n",
      "        def msgbox(msg=\"(Your message goes here)\", title=\"\", ok_button=\"OK\"):\n",
      "            ....\n",
      "    \n",
      "    The clearest way to override the button text is to do it with a keyword\n",
      "    argument, like this::\n",
      "    \n",
      "        easygui.msgbox(\"Backup complete!\", ok_button=\"Good job!\")\n",
      "    \n",
      "    Here are a couple of examples::\n",
      "    \n",
      "        easygui.msgbox(\"Hello, world!\")\n",
      "    \n",
      "    :param str msg: the msg to be displayed\n",
      "    :param str title: the window title\n",
      "    :param str ok_button: text to show in the button\n",
      "    :param str image: Filename of image to display\n",
      "    :param tk_widget root: Top-level Tk widget\n",
      "    :return: the text of the ok_button\n",
      "\n"
     ]
    }
   ],
   "source": [
    "help(easygui.msgbox)"
   ]
  },
  {
   "cell_type": "markdown",
   "metadata": {},
   "source": [
    "# 2.7你学到了什么\n",
    "1. 在这一章，你学到了以下内容。\n",
    "2. 如何利用 EasyGui 建立简单的 GUI。\n",
    "3. 如何使用消息框 msgbox 显示消息。\n",
    "4. 如何使用按钮、选择框和文本输入框（buttonbox、choicebox、enterbox、integerbox）得到输入。\n",
    "5. 如何使用 Python 的内置帮助系统\n",
    "6. 用 EasyGui 的温度转换程序\n",
    "\n",
    "    摄氏度 = （华氏度-32）/1.8\n"
   ]
  },
  {
   "cell_type": "code",
   "execution_count": 20,
   "metadata": {},
   "outputs": [
    {
     "data": {
      "text/plain": [
       "'OK'"
      ]
     },
     "execution_count": 20,
     "metadata": {},
     "output_type": "execute_result"
    }
   ],
   "source": [
    "# tempgui1.py\n",
    "# EasyGui version of temperature-conversion program\n",
    "# converts Fahrenheit to Celsius\n",
    "import easygui\n",
    "\n",
    "easygui.msgbox('This program converts Fahrenheit to Celsius')\n",
    "temperature = easygui.enterbox('Type in a temperature in Fahrenheit:')\n",
    "Fahr = float(temperature)\n",
    "Cel = (Fahr - 32) /1.8\n",
    "easygui.msgbox('That is ' + str(Cel) + ' degrees Celsius.')"
   ]
  },
  {
   "cell_type": "markdown",
   "metadata": {},
   "source": [
    "## 2.8 课后作业\n",
    "1. 编写一个程序，询问你的姓名，然后是房间号、街道和城市，接下来是省 / 地区 / 州，最后是邮政编码（所有这些都放在 EasyGui 对话框中）。然后这个程序要显示一个寄信格式的完整地址，类似于：\n",
    "\n",
    "![](2022-07-23-10-53-57.png)"
   ]
  }
 ],
 "metadata": {
  "kernelspec": {
   "display_name": "Python 3.10.5 64-bit",
   "language": "python",
   "name": "python3"
  },
  "language_info": {
   "codemirror_mode": {
    "name": "ipython",
    "version": 3
   },
   "file_extension": ".py",
   "mimetype": "text/x-python",
   "name": "python",
   "nbconvert_exporter": "python",
   "pygments_lexer": "ipython3",
   "version": "3.10.5"
  },
  "orig_nbformat": 4,
  "vscode": {
   "interpreter": {
    "hash": "f5ff168696553f3e2cb115c273c46eeb315c32b0d0536992c4bad2740a7f9469"
   }
  }
 },
 "nbformat": 4,
 "nbformat_minor": 2
}
