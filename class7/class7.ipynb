{
 "cells": [
  {
   "cell_type": "markdown",
   "metadata": {},
   "source": [
    "# 1.课前提问\n",
    "\n",
    "1. 如何利用 EasyGui 建立简单的 GUI。\n",
    "2. 如何使用消息框 msgbox 显示消息。\n",
    "3. 如何使用按钮、选择框和文本输入框（buttonbox、choicebox、enterbox、integerbox）得到输入。\n",
    "4. 如何使用 Python 的内置帮助系统"
   ]
  },
  {
   "cell_type": "code",
   "execution_count": null,
   "metadata": {},
   "outputs": [],
   "source": []
  },
  {
   "cell_type": "markdown",
   "metadata": {},
   "source": [
    "# 2.判断再判断\n",
    "如果一个程序每次都做同样的事情，这会有些枯燥，而且用处不大。程序要能够决定接下来做什么。我们已经掌握了一些处理技术，下面再来补充另外一些决策（decision-making）技术。\n",
    "\n",
    "* 本章先学条件分支，下次课学习几种运算符\n",
    "\n",
    "![](https://img95.699pic.com/element/40121/5798.png_860.png)\n",
    "\n",
    "[if语句介绍](https://www.bilibili.com/video/BV1tT4y1m7zD/?spm_id_from=333.788)\n",
    "\n",
    "![](2022-07-30-21-58-33.png)"
   ]
  },
  {
   "cell_type": "markdown",
   "metadata": {},
   "source": [
    "## 2.1 if语句结构\n",
    "![](2022-07-30-22-06-35.png)\n",
    "![](2022-07-30-22-14-36.png)"
   ]
  },
  {
   "cell_type": "code",
   "execution_count": 2,
   "metadata": {},
   "outputs": [
    {
     "ename": "TypeError",
     "evalue": "'>' not supported between instances of 'NoneType' and 'int'",
     "output_type": "error",
     "traceback": [
      "\u001b[1;31m---------------------------------------------------------------------------\u001b[0m",
      "\u001b[1;31mTypeError\u001b[0m                                 Traceback (most recent call last)",
      "\u001b[1;32md:\\Project\\svn_test\\BaiduNetdiskWorkspace\\MM\\CLASS\\class7\\class7.ipynb Cell 5\u001b[0m in \u001b[0;36m<cell line: 5>\u001b[1;34m()\u001b[0m\n\u001b[0;32m      <a href='vscode-notebook-cell:/d%3A/Project/svn_test/BaiduNetdiskWorkspace/MM/CLASS/class7/class7.ipynb#ch0000007?line=1'>2</a>\u001b[0m \u001b[39m# 定义一个变量score,表示本次期末考试成绩\u001b[39;00m\n\u001b[0;32m      <a href='vscode-notebook-cell:/d%3A/Project/svn_test/BaiduNetdiskWorkspace/MM/CLASS/class7/class7.ipynb#ch0000007?line=2'>3</a>\u001b[0m score \u001b[39m=\u001b[39m integerbox(\u001b[39m'\u001b[39m\u001b[39m请输入你的期末成绩\u001b[39m\u001b[39m'\u001b[39m)\n\u001b[1;32m----> <a href='vscode-notebook-cell:/d%3A/Project/svn_test/BaiduNetdiskWorkspace/MM/CLASS/class7/class7.ipynb#ch0000007?line=4'>5</a>\u001b[0m \u001b[39mif\u001b[39;00m score \u001b[39m>\u001b[39;49m \u001b[39m85\u001b[39;49m:\n\u001b[0;32m      <a href='vscode-notebook-cell:/d%3A/Project/svn_test/BaiduNetdiskWorkspace/MM/CLASS/class7/class7.ipynb#ch0000007?line=5'>6</a>\u001b[0m     msgbox(\u001b[39m'\u001b[39m\u001b[39m你真优秀！！！\u001b[39m\u001b[39m'\u001b[39m)\n\u001b[0;32m      <a href='vscode-notebook-cell:/d%3A/Project/svn_test/BaiduNetdiskWorkspace/MM/CLASS/class7/class7.ipynb#ch0000007?line=7'>8</a>\u001b[0m \u001b[39mif\u001b[39;00m score \u001b[39m<\u001b[39m \u001b[39m65\u001b[39m:\n",
      "\u001b[1;31mTypeError\u001b[0m: '>' not supported between instances of 'NoneType' and 'int'"
     ]
    }
   ],
   "source": [
    "from easygui import *\n",
    "# 定义一个变量score,表示本次期末考试成绩\n",
    "score = integerbox('请输入你的期末成绩')\n",
    "\n",
    "if score > 85:\n",
    "    msgbox('你真优秀！！！')\n",
    "    \n",
    "if score < 65:\n",
    "    msgbox('你需要加倍努力！')\n",
    "\n",
    "if score <85 and score >65:\n",
    "    msgbox('你的成绩还可以，但仍然需要努力！')\n",
    "    \n"
   ]
  },
  {
   "cell_type": "markdown",
   "metadata": {},
   "source": [
    "* 术语箱\n",
    "\n",
    "![](https://ts1.cn.mm.bing.net/th/id/R-C.0b90b08e83a2759172bbe9ea515eb967?rik=IiZmVvSDs3AUAA&riu=http%3a%2f%2fpic.616pic.com%2fys_bnew_img%2f00%2f09%2f17%2fGKPL998TGD.jpg&ehk=ul%2b7AaFous3tWQ9OCkXVNz5wM85CNbsaewfS1WU56YI%3d&risl=&pid=ImgRaw&r=0)\n",
    "\n",
    "* 缩进（indenting）是指一个代码行稍稍靠右一点。它不是从最左端开始，而是前面有一些空格，所以会从距左边界几个字符之后开始。如果条件为真，就会完成之后代码块中的所有工作。在前面的小例子中，第 2 行和第 3 行构成了第 1 行中 if 的相应语句块。\n",
    "* 分支：完成测试并根据结果做出判断称为分支（branching）。程序根据测试的结果来决定走哪条路，或者沿哪个分支执行。Python 使用关键字 if 来测试条件\n",
    "* 代码块（block），也叫语句组，是一行或放在一起的多行代码。它们都与程序的某个部分相关（比如一个 if 语句）。在 Python 中，通过将块中的代码行缩进来构成代码块。\n",
    "\n",
    "## 2.2是不是有问题\n",
    "if 语句中真的有两个等号吗（if timsAnswer == correctAnswer）？没错，确实是这样，下面来告诉你这是为什么。\n",
    "人们通常这么说，“5 加 4 等于 9”，另外会这么问“5 加 4 等于 9 吗？”。前一个是陈述句（statement）；另一个是疑问句（question）。\n",
    "![](https://ts1.cn.mm.bing.net/th/id/R-C.67df7b402f90553ab155f8bcb52a989b?rik=bnp4K7IeoZgCdw&riu=http%3a%2f%2fpic.ntimg.cn%2ffile%2f20191225%2f18980004_141814385993_2.jpg&ehk=i0b4UOUTWx%2bJTgZKP32eE6Aa36ZFGUPBiby2RWwy2TY%3d&risl=&pid=ImgRaw&r=0)\n",
    "\n",
    "混淆 = 和 == 是编程中最常见的错误之一"
   ]
  },
  {
   "cell_type": "markdown",
   "metadata": {},
   "source": [
    "## 2.3其他类型的测试（if-else结构）\n",
    "![](2022-07-30-22-15-18.png)\n",
    "![](2022-07-30-22-15-41.png)"
   ]
  },
  {
   "cell_type": "code",
   "execution_count": null,
   "metadata": {},
   "outputs": [],
   "source": [
    "from easygui import *\n",
    "# 定义一个变量score,表示本次期末考试成绩\n",
    "score = integerbox('请输入你的期末成绩')\n",
    "\n",
    "if score >= 60:\n",
    "    if score >85:\n",
    "        msgbox('你真优秀！！！')\n",
    "    else:\n",
    "        msgbox('你的成绩还可以，但仍然需要努力！')\n",
    "else:\n",
    "    msgbox('你需要加倍努力！')  "
   ]
  },
  {
   "cell_type": "markdown",
   "metadata": {},
   "source": [
    "## 2.4 如果测试为假会怎么样（if-elif-else结构）\n",
    "![](2022-07-30-22-20-40.png)\n",
    "![](2022-07-30-22-22-10.png)"
   ]
  },
  {
   "cell_type": "code",
   "execution_count": null,
   "metadata": {},
   "outputs": [],
   "source": [
    "from easygui import *\n",
    "# 定义一个变量score,表示本次期末考试成绩\n",
    "score = integerbox('请输入你的期末成绩')\n",
    "\n",
    "if score >= 90:\n",
    "    msgbox('你真优秀，成绩为A')\n",
    "elif score >=80:\n",
    "    msgbox('考的不错，成绩为B')\n",
    "elif score >=70:\n",
    "    msgbox('考的还行，成绩为C')\n",
    "else:\n",
    "    msgbox('你需要加倍努力，成绩为D！') "
   ]
  },
  {
   "cell_type": "markdown",
   "metadata": {},
   "source": [
    "## 2.5测试题\n",
    "1. 运行这个程序会得到什么输出：\n",
    "my_number = 7\n",
    "if my_number < 20:\n",
    "    print 'Under 20'\n",
    "else:\n",
    "    print '20 or over'\n",
    "2. 基于第一个问题中的程序，如果把 my_number 改为 25，输出会是什么？\n",
    "\n",
    "## 2.6课后练习\n",
    "1. 一家书店在降价促销。如果购买书籍金额低于或等于 10 元，会给 10% 的折扣，如果购买金额大于 10 元，会给 20% 的折扣。编写一个程序，询问你想要的书的价格，再显示折扣（10% 或 20%）和这本书的最终价格。"
   ]
  },
  {
   "cell_type": "code",
   "execution_count": null,
   "metadata": {},
   "outputs": [],
   "source": [
    "# program to calculate store discount\n",
    "# 10% off for $10 or less, 20% off for more than $10\n",
    "from easygui import *\n",
    "item_price = integerbox('enter the price of the item: ')\n",
    "if item_price <= 10.0:\n",
    "    discount = item_price * 0.10\n",
    "else:\n",
    "    discount = item_price * 0.20\n",
    "final_price = item_price - discount\n",
    "print ('You got ', discount, 'off, so your final price was', final_price)"
   ]
  }
 ],
 "metadata": {
  "kernelspec": {
   "display_name": "Python 3.10.5 64-bit",
   "language": "python",
   "name": "python3"
  },
  "language_info": {
   "codemirror_mode": {
    "name": "ipython",
    "version": 3
   },
   "file_extension": ".py",
   "mimetype": "text/x-python",
   "name": "python",
   "nbconvert_exporter": "python",
   "pygments_lexer": "ipython3",
   "version": "3.10.5"
  },
  "orig_nbformat": 4,
  "vscode": {
   "interpreter": {
    "hash": "f5ff168696553f3e2cb115c273c46eeb315c32b0d0536992c4bad2740a7f9469"
   }
  }
 },
 "nbformat": 4,
 "nbformat_minor": 2
}
