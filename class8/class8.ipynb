{
 "cells": [
  {
   "cell_type": "markdown",
   "metadata": {},
   "source": [
    "# 1.课前提问\n",
    "1. 如何用Python语言来实现句式：\n",
    "   如果***\n",
    "   就****\n",
    "2. 如何用Python语言来实现下列句式：\n",
    "    如果***\n",
    "        就***\n",
    "    否则\n",
    "        就***\n",
    "3. 如何用Python语言来实现下列句式：\n",
    "    如果***\n",
    "        就***\n",
    "    否则 如果***\n",
    "        就***\n",
    "    否则 如果***\n",
    "        就***\n",
    "    以上条件都不满足\n",
    "        就***\n",
    "4. 什么是缩进？如何用键盘输入缩进？\n",
    "5. python中分支用哪个关键字来表示？\n",
    "6. 什么是代码块？它的作用是什么？\n",
    "\n",
    "[计算机科普](https://www.bilibili.com/video/av21376839)\n",
    "\n",
    "[小学生电脑知识科普](https://www.bilibili.com/video/BV1m7411276Q/)\n",
    "\n",
    "[博古通今之计算机的发展史](https://www.bilibili.com/video/BV1oJ411v7UT/?spm_id_from=333.788.recommend_more_video.8)\n",
    "\n",
    "[博古通今2电脑的常见组成部分](https://www.bilibili.com/video/BV18J411i7wF/?spm_id_from=333.788.recommend_more_video.12)\n",
    "[小码王](https://space.bilibili.com/473859888/)\n"
   ]
  },
  {
   "cell_type": "code",
   "execution_count": null,
   "metadata": {},
   "outputs": [
    {
     "ename": "",
     "evalue": "",
     "output_type": "error",
     "traceback": [
      "\u001b[1;31mFailed to start the Kernel. \n",
      "\u001b[1;31mERROR: Exception:\n",
      "\u001b[1;31mTraceback (most recent call last):\n",
      "\u001b[1;31m  File \"c:\\Users\\User\\AppData\\Local\\Programs\\Python\\Python310\\lib\\site-packages\\pip\\_vendor\\urllib3\\response.py\", line 435, in _error_catcher\n",
      "\u001b[1;31m    yield\n",
      "\u001b[1;31m  File \"c:\\Users\\User\\AppData\\Local\\Programs\\Python\\Python310\\lib\\site-packages\\pip\\_vendor\\urllib3\\response.py\", line 516, in read\n",
      "\u001b[1;31m    data = self._fp.read(amt) if not fp_closed else b\"\"\n",
      "\u001b[1;31m  File \"c:\\Users\\User\\AppData\\Local\\Programs\\Python\\Python310\\lib\\site-packages\\pip\\_vendor\\cachecontrol\\filewrapper.py\", line 90, in read\n",
      "\u001b[1;31m    data = self.__fp.read(amt)\n",
      "\u001b[1;31m  File \"c:\\Users\\User\\AppData\\Local\\Programs\\Python\\Python310\\lib\\http\\client.py\", line 465, in read\n",
      "\u001b[1;31m    s = self.fp.read(amt)\n",
      "\u001b[1;31m  File \"c:\\Users\\User\\AppData\\Local\\Programs\\Python\\Python310\\lib\\socket.py\", line 705, in readinto\n",
      "\u001b[1;31m    return self._sock.recv_into(b)\n",
      "\u001b[1;31m  File \"c:\\Users\\User\\AppData\\Local\\Programs\\Python\\Python310\\lib\\ssl.py\", line 1274, in recv_into\n",
      "\u001b[1;31m    return self.read(nbytes, buffer)\n",
      "\u001b[1;31m  File \"c:\\Users\\User\\AppData\\Local\\Programs\\Python\\Python310\\lib\\ssl.py\", line 1130, in read\n",
      "\u001b[1;31m    return self._sslobj.read(len, buffer)\n",
      "\u001b[1;31mTimeoutError: The read operation timed out\n",
      "\u001b[1;31m\n",
      "\u001b[1;31mDuring handling of the above exception, another exception occurred:\n",
      "\u001b[1;31m\n",
      "\u001b[1;31mTraceback (most recent call last):\n",
      "\u001b[1;31m  File \"c:\\Users\\User\\AppData\\Local\\Programs\\Python\\Python310\\lib\\site-packages\\pip\\_internal\\cli\\base_command.py\", line 167, in exc_logging_wrapper\n",
      "\u001b[1;31m    status = run_func(*args)\n",
      "\u001b[1;31m  File \"c:\\Users\\User\\AppData\\Local\\Programs\\Python\\Python310\\lib\\site-packages\\pip\\_internal\\cli\\req_command.py\", line 247, in wrapper\n",
      "\u001b[1;31m    return func(self, options, args)\n",
      "\u001b[1;31m  File \"c:\\Users\\User\\AppData\\Local\\Programs\\Python\\Python310\\lib\\site-packages\\pip\\_internal\\commands\\install.py\", line 369, in run\n",
      "\u001b[1;31m    requirement_set = resolver.resolve(\n",
      "\u001b[1;31m  File \"c:\\Users\\User\\AppData\\Local\\Programs\\Python\\Python310\\lib\\site-packages\\pip\\_internal\\resolution\\resolvelib\\resolver.py\", line 92, in resolve\n",
      "\u001b[1;31m    result = self._result = resolver.resolve(\n",
      "\u001b[1;31m  File \"c:\\Users\\User\\AppData\\Local\\Programs\\Python\\Python310\\lib\\site-packages\\pip\\_vendor\\resolvelib\\resolvers.py\", line 481, in resolve\n",
      "\u001b[1;31m    state = resolution.resolve(requirements, max_rounds=max_rounds)\n",
      "\u001b[1;31m  File \"c:\\Users\\User\\AppData\\Local\\Programs\\Python\\Python310\\lib\\site-packages\\pip\\_vendor\\resolvelib\\resolvers.py\", line 373, in resolve\n",
      "\u001b[1;31m    failure_causes = self._attempt_to_pin_criterion(name)\n",
      "\u001b[1;31m  File \"c:\\Users\\User\\AppData\\Local\\Programs\\Python\\Python310\\lib\\site-packages\\pip\\_vendor\\resolvelib\\resolvers.py\", line 213, in _attempt_to_pin_criterion\n",
      "\u001b[1;31m    criteria = self._get_updated_criteria(candidate)\n",
      "\u001b[1;31m  File \"c:\\Users\\User\\AppData\\Local\\Programs\\Python\\Python310\\lib\\site-packages\\pip\\_vendor\\resolvelib\\resolvers.py\", line 204, in _get_updated_criteria\n",
      "\u001b[1;31m    self._add_to_criteria(criteria, requirement, parent=candidate)\n",
      "\u001b[1;31m  File \"c:\\Users\\User\\AppData\\Local\\Programs\\Python\\Python310\\lib\\site-packages\\pip\\_vendor\\resolvelib\\resolvers.py\", line 172, in _add_to_criteria\n",
      "\u001b[1;31m    if not criterion.candidates:\n",
      "\u001b[1;31m  File \"c:\\Users\\User\\AppData\\Local\\Programs\\Python\\Python310\\lib\\site-packages\\pip\\_vendor\\resolvelib\\structs.py\", line 151, in __bool__\n",
      "\u001b[1;31m    return bool(self._sequence)\n",
      "\u001b[1;31m  File \"c:\\Users\\User\\AppData\\Local\\Programs\\Python\\Python310\\lib\\site-packages\\pip\\_internal\\resolution\\resolvelib\\found_candidates.py\", line 155, in __bool__\n",
      "\u001b[1;31m    return any(self)\n",
      "\u001b[1;31m  File \"c:\\Users\\User\\AppData\\Local\\Programs\\Python\\Python310\\lib\\site-packages\\pip\\_internal\\resolution\\resolvelib\\found_candidates.py\", line 143, in <genexpr>\n",
      "\u001b[1;31m    return (c for c in iterator if id(c) not in self._incompatible_ids)\n",
      "\u001b[1;31m  File \"c:\\Users\\User\\AppData\\Local\\Programs\\Python\\Python310\\lib\\site-packages\\pip\\_internal\\resolution\\resolvelib\\found_candidates.py\", line 47, in _iter_built\n",
      "\u001b[1;31m    candidate = func()\n",
      "\u001b[1;31m  File \"c:\\Users\\User\\AppData\\Local\\Programs\\Python\\Python310\\lib\\site-packages\\pip\\_internal\\resolution\\resolvelib\\factory.py\", line 206, in _make_candidate_from_link\n",
      "\u001b[1;31m    self._link_candidate_cache[link] = LinkCandidate(\n",
      "\u001b[1;31m  File \"c:\\Users\\User\\AppData\\Local\\Programs\\Python\\Python310\\lib\\site-packages\\pip\\_internal\\resolution\\resolvelib\\candidates.py\", line 297, in __init__\n",
      "\u001b[1;31m    super().__init__(\n",
      "\u001b[1;31m  File \"c:\\Users\\User\\AppData\\Local\\Programs\\Python\\Python310\\lib\\site-packages\\pip\\_internal\\resolution\\resolvelib\\candidates.py\", line 162, in __init__\n",
      "\u001b[1;31m    self.dist = self._prepare()\n",
      "\u001b[1;31m  File \"c:\\Users\\User\\AppData\\Local\\Programs\\Python\\Python310\\lib\\site-packages\\pip\\_internal\\resolution\\resolvelib\\candidates.py\", line 231, in _prepare\n",
      "\u001b[1;31m    dist = self._prepare_distribution()\n",
      "\u001b[1;31m  File \"c:\\Users\\User\\AppData\\Local\\Programs\\Python\\Python310\\lib\\site-packages\\pip\\_internal\\resolution\\resolvelib\\candidates.py\", line 308, in _prepare_distribution\n",
      "\u001b[1;31m    return preparer.prepare_linked_requirement(self._ireq, parallel_builds=True)\n",
      "\u001b[1;31m  File \"c:\\Users\\User\\AppData\\Local\\Programs\\Python\\Python310\\lib\\site-packages\\pip\\_internal\\operations\\prepare.py\", line 438, in prepare_linked_requirement\n",
      "\u001b[1;31m    return self._prepare_linked_requirement(req, parallel_builds)\n",
      "\u001b[1;31m  File \"c:\\Users\\User\\AppData\\Local\\Programs\\Python\\Python310\\lib\\site-packages\\pip\\_internal\\operations\\prepare.py\", line 483, in _prepare_linked_requirement\n",
      "\u001b[1;31m    local_file = unpack_url(\n",
      "\u001b[1;31m  File \"c:\\Users\\User\\AppData\\Local\\Programs\\Python\\Python310\\lib\\site-packages\\pip\\_internal\\operations\\prepare.py\", line 165, in unpack_url\n",
      "\u001b[1;31m    file = get_http_url(\n",
      "\u001b[1;31m  File \"c:\\Users\\User\\AppData\\Local\\Programs\\Python\\Python310\\lib\\site-packages\\pip\\_internal\\operations\\prepare.py\", line 106, in get_http_url\n",
      "\u001b[1;31m    from_path, content_type = download(link, temp_dir.path)\n",
      "\u001b[1;31m  File \"c:\\Users\\User\\AppData\\Local\\Programs\\Python\\Python310\\lib\\site-packages\\pip\\_internal\\network\\download.py\", line 147, in __call__\n",
      "\u001b[1;31m    for chunk in chunks:\n",
      "\u001b[1;31m  File \"c:\\Users\\User\\AppData\\Local\\Programs\\Python\\Python310\\lib\\site-packages\\pip\\_internal\\cli\\progress_bars.py\", line 53, in _rich_progress_bar\n",
      "\u001b[1;31m    for chunk in iterable:\n",
      "\u001b[1;31m  File \"c:\\Users\\User\\AppData\\Local\\Programs\\Python\\Python310\\lib\\site-packages\\pip\\_internal\\network\\utils.py\", line 63, in response_chunks\n",
      "\u001b[1;31m    for chunk in response.raw.stream(\n",
      "\u001b[1;31m  File \"c:\\Users\\User\\AppData\\Local\\Programs\\Python\\Python310\\lib\\site-packages\\pip\\_vendor\\urllib3\\response.py\", line 573, in stream\n",
      "\u001b[1;31m    data = self.read(amt=amt, decode_content=decode_content)\n",
      "\u001b[1;31m  File \"c:\\Users\\User\\AppData\\Local\\Programs\\Python\\Python310\\lib\\site-packages\\pip\\_vendor\\urllib3\\response.py\", line 509, in read\n",
      "\u001b[1;31m    with self._error_catcher():\n",
      "\u001b[1;31m  File \"c:\\Users\\User\\AppData\\Local\\Programs\\Python\\Python310\\lib\\contextlib.py\", line 153, in __exit__\n",
      "\u001b[1;31m    self.gen.throw(typ, value, traceback)\n",
      "\u001b[1;31m  File \"c:\\Users\\User\\AppData\\Local\\Programs\\Python\\Python310\\lib\\site-packages\\pip\\_vendor\\urllib3\\response.py\", line 440, in _error_catcher\n",
      "\u001b[1;31m    raise ReadTimeoutError(self._pool, None, \"Read timed out.\")\n",
      "\u001b[1;31mpip._vendor.urllib3.exceptions.ReadTimeoutError: HTTPSConnectionPool(host='files.pythonhosted.org', port=443): Read timed out. \n",
      "View Jupyter <a href='command:jupyter.viewOutput'>log</a> for further details."
     ]
    }
   ],
   "source": [
    "from easygui import *\n",
    "# weather = "
   ]
  },
  {
   "cell_type": "markdown",
   "metadata": {},
   "source": [
    "# 2.逻辑运算符\n",
    "# 2.1数据类型家庭来了一个新成员---布尔型\n",
    "![基本数据类型](https://pic2.zhimg.com/v2-ec1bfb69e2a1cfd41d1ec37c43993649_r.jpg)\n",
    "![](2022-08-06-22-46-12.png)\n",
    "* 定义：python中布尔型关键词为bool，是int类型的子类，只有2个值：TRUE和FALSE\n",
    "\n",
    "![](2022-08-06-23-00-37.png)\n"
   ]
  },
  {
   "cell_type": "markdown",
   "metadata": {},
   "source": [
    "# 2.2 动动手，看如何生成布尔型数据\n",
    "![](2022-08-06-23-02-48.png)"
   ]
  },
  {
   "cell_type": "code",
   "execution_count": 2,
   "metadata": {},
   "outputs": [],
   "source": [
    "a=3\n",
    "b = bool(a)"
   ]
  },
  {
   "cell_type": "markdown",
   "metadata": {},
   "source": [
    "## 2.3布尔型的作用-逻辑运算\n",
    "\n",
    "[逻辑运算符介绍](https://www.bilibili.com/video/BV1CF411z7so?is_story_h5=false&p=1&share_from=ugc&share_medium=android&share_plat=android&share_session_id=7ce12225-5b3b-436d-a986-682ff381dcb7&share_source=WEIXIN&share_tag=s_i&timestamp=1659780633&unique_k=8whfZff)"
   ]
  },
  {
   "cell_type": "code",
   "execution_count": 1,
   "metadata": {},
   "outputs": [
    {
     "ename": "TypeError",
     "evalue": "'>' not supported between instances of 'NoneType' and 'int'",
     "output_type": "error",
     "traceback": [
      "\u001b[1;31m---------------------------------------------------------------------------\u001b[0m",
      "\u001b[1;31mTypeError\u001b[0m                                 Traceback (most recent call last)",
      "\u001b[1;32md:\\project\\BaiduSyncdisk\\MM\\CLASS\\class8\\class8.ipynb Cell 7\u001b[0m in \u001b[0;36m<cell line: 6>\u001b[1;34m()\u001b[0m\n\u001b[0;32m      <a href='vscode-notebook-cell:/d%3A/project/BaiduSyncdisk/MM/CLASS/class8/class8.ipynb#W6sZmlsZQ%3D%3D?line=2'>3</a>\u001b[0m \u001b[39m# 定义一个变量score,表示本次期末考试成绩\u001b[39;00m\n\u001b[0;32m      <a href='vscode-notebook-cell:/d%3A/project/BaiduSyncdisk/MM/CLASS/class8/class8.ipynb#W6sZmlsZQ%3D%3D?line=3'>4</a>\u001b[0m score \u001b[39m=\u001b[39m integerbox(\u001b[39m'\u001b[39m\u001b[39m请输入你的期末成绩\u001b[39m\u001b[39m'\u001b[39m)\n\u001b[1;32m----> <a href='vscode-notebook-cell:/d%3A/project/BaiduSyncdisk/MM/CLASS/class8/class8.ipynb#W6sZmlsZQ%3D%3D?line=5'>6</a>\u001b[0m \u001b[39mif\u001b[39;00m score \u001b[39m>\u001b[39;49m \u001b[39m60\u001b[39;49m:\n\u001b[0;32m      <a href='vscode-notebook-cell:/d%3A/project/BaiduSyncdisk/MM/CLASS/class8/class8.ipynb#W6sZmlsZQ%3D%3D?line=6'>7</a>\u001b[0m     \u001b[39mif\u001b[39;00m score \u001b[39m>\u001b[39m\u001b[39m85\u001b[39m:\n\u001b[0;32m      <a href='vscode-notebook-cell:/d%3A/project/BaiduSyncdisk/MM/CLASS/class8/class8.ipynb#W6sZmlsZQ%3D%3D?line=7'>8</a>\u001b[0m         msgbox(\u001b[39m'\u001b[39m\u001b[39m你真优秀！！！\u001b[39m\u001b[39m'\u001b[39m)\n",
      "\u001b[1;31mTypeError\u001b[0m: '>' not supported between instances of 'NoneType' and 'int'"
     ]
    }
   ],
   "source": [
    "# 用逻辑运算符重新写下面的代码\n",
    "from easygui import *\n",
    "# 定义一个变量score,表示本次期末考试成绩\n",
    "score = integerbox('请输入你的期末成绩')\n",
    "\n",
    "if score > 60:\n",
    "    if score >85:\n",
    "        msgbox('你真优秀！！！')\n",
    "    else:\n",
    "        msgbox('你的成绩还可以，但仍然需要努力！')\n",
    "else:\n",
    "    msgbox('你需要加倍努力！')  "
   ]
  },
  {
   "cell_type": "markdown",
   "metadata": {},
   "source": [
    "## 2.4你学到了什么\n",
    "1. 数据类型家庭的新成员，它的取值为？\n",
    "2. 三个逻辑运算符号"
   ]
  },
  {
   "cell_type": "markdown",
   "metadata": {},
   "source": [
    "## 2.5练习题\n",
    "1. 要检查一个数是否大于 30 但小于或等于 40，要用哪种 if 语句？\n",
    "\n",
    "2. 要检查用户输入的字母“Q”是大写还是小写，要使用哪种 if 语句？"
   ]
  },
  {
   "cell_type": "markdown",
   "metadata": {},
   "source": [
    "## 2.6课后作业\n",
    "一个足球队在寻找年龄在 10 到 12 岁之间的小女孩加入。编写一个程序，询问用户的年龄和性别（m 表示男性，f 表示女性）。显示一条消息指出这个人是否可以加入球队。\n",
    "额外提示：要合理地建立程序，如果用户不是女孩就不必询问年龄。"
   ]
  },
  {
   "cell_type": "markdown",
   "metadata": {},
   "source": [
    "# 3.游戏环节\n",
    "![](https://tse2-mm.cn.bing.net/th/id/OIP-C.FM27jmtGjkaTpp2W7MDGRwHaFw?pid=ImgDet&rs=1)"
   ]
  }
 ],
 "metadata": {
  "kernelspec": {
   "display_name": "Python 3.10.6 64-bit",
   "language": "python",
   "name": "python3"
  },
  "language_info": {
   "codemirror_mode": {
    "name": "ipython",
    "version": 3
   },
   "file_extension": ".py",
   "mimetype": "text/x-python",
   "name": "python",
   "nbconvert_exporter": "python",
   "pygments_lexer": "ipython3",
   "version": "3.10.6"
  },
  "orig_nbformat": 4,
  "vscode": {
   "interpreter": {
    "hash": "afb734500600fd355917ca529030176ea0ca205570884b88f2f6f7d791fd3fbe"
   }
  }
 },
 "nbformat": 4,
 "nbformat_minor": 2
}
