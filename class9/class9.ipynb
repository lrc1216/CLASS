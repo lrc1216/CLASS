{
 "cells": [
  {
   "cell_type": "code",
   "execution_count": 1,
   "metadata": {},
   "outputs": [
    {
     "name": "stdout",
     "output_type": "stream",
     "text": [
      "我喜欢python我喜欢python我喜欢python我喜欢python我喜欢python我喜欢python我喜欢python我喜欢python我喜欢python我喜欢python\n"
     ]
    }
   ],
   "source": [
    "string='我喜欢python'\n",
    "print(string*10)"
   ]
  },
  {
   "cell_type": "code",
   "execution_count": null,
   "metadata": {},
   "outputs": [],
   "source": []
  }
 ],
 "metadata": {
  "kernelspec": {
   "display_name": "Python 3.10.1 64-bit",
   "language": "python",
   "name": "python3"
  },
  "language_info": {
   "codemirror_mode": {
    "name": "ipython",
    "version": 3
   },
   "file_extension": ".py",
   "mimetype": "text/x-python",
   "name": "python",
   "nbconvert_exporter": "python",
   "pygments_lexer": "ipython3",
   "version": "3.10.1"
  },
  "orig_nbformat": 4,
  "vscode": {
   "interpreter": {
    "hash": "1726394d12e2175d5b43e9a33c697f65a6d879bfb7833a87060989870a348be0"
   }
  }
 },
 "nbformat": 4,
 "nbformat_minor": 2
}
